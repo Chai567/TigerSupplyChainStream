{
  "cells": [
    {
      "cell_type": "markdown",
      "metadata": {
        "id": "view-in-github",
        "colab_type": "text"
      },
      "source": [
        "<a href=\"https://colab.research.google.com/github/Chai567/TigerSupplyChainStream/blob/main/SupplyChainAnalytics.ipynb\" target=\"_parent\"><img src=\"https://colab.research.google.com/assets/colab-badge.svg\" alt=\"Open In Colab\"/></a>"
      ]
    },
    {
      "cell_type": "markdown",
      "source": [
        "**Supply Chain Analytics**\n",
        "\n",
        "\n",
        "---\n",
        "Supply chain analytics refers to the processes organizations use to gain insight and extract value from the large amounts of data associated with the procurement, processing and distribution of goods.\n",
        "\n",
        "\n"
      ],
      "metadata": {
        "id": "QNCZKS2ViVsd"
      }
    },
    {
      "cell_type": "markdown",
      "source": [
        "I have used Supply Chain starter kit and analyzed data returned by various query with interactive UI using tools such as Graphistry, plotly, etc."
      ],
      "metadata": {
        "id": "W_LsbimmipEH"
      }
    },
    {
      "cell_type": "markdown",
      "source": [
        "Install the required packages such as plotly, pyTigerGraph, graphistry, etc."
      ],
      "metadata": {
        "id": "KsBUQsEWjam4"
      }
    },
    {
      "cell_type": "code",
      "execution_count": 2,
      "metadata": {
        "colab": {
          "base_uri": "https://localhost:8080/"
        },
        "id": "sg0SJbir-Khk",
        "outputId": "94f0163c-fab2-433c-df43-4339ccadebf1"
      },
      "outputs": [
        {
          "output_type": "stream",
          "name": "stdout",
          "text": [
            "Requirement already satisfied: plotly in /usr/local/lib/python3.7/dist-packages (5.5.0)\n",
            "Collecting plotly\n",
            "  Downloading plotly-5.7.0-py2.py3-none-any.whl (28.8 MB)\n",
            "\u001b[K     |████████████████████████████████| 28.8 MB 1.5 MB/s \n",
            "\u001b[?25hRequirement already satisfied: six in /usr/local/lib/python3.7/dist-packages (from plotly) (1.15.0)\n",
            "Requirement already satisfied: tenacity>=6.2.0 in /usr/local/lib/python3.7/dist-packages (from plotly) (8.0.1)\n",
            "Installing collected packages: plotly\n",
            "  Attempting uninstall: plotly\n",
            "    Found existing installation: plotly 5.5.0\n",
            "    Uninstalling plotly-5.5.0:\n",
            "      Successfully uninstalled plotly-5.5.0\n",
            "Successfully installed plotly-5.7.0\n"
          ]
        }
      ],
      "source": [
        "!pip install plotly --upgrade"
      ]
    },
    {
      "cell_type": "code",
      "execution_count": 3,
      "metadata": {
        "colab": {
          "base_uri": "https://localhost:8080/"
        },
        "id": "wPrsUOQv-iMN",
        "outputId": "873c9c6b-994b-4266-b621-9faa870d3ce7"
      },
      "outputs": [
        {
          "output_type": "stream",
          "name": "stdout",
          "text": [
            "Collecting pyTigerGraph\n",
            "  Downloading pyTigerGraph-0.0.9.9.2-py3-none-any.whl (22 kB)\n",
            "Collecting validators\n",
            "  Downloading validators-0.18.2-py3-none-any.whl (19 kB)\n",
            "Requirement already satisfied: requests in /usr/local/lib/python3.7/dist-packages (from pyTigerGraph) (2.23.0)\n",
            "Requirement already satisfied: pandas in /usr/local/lib/python3.7/dist-packages (from pyTigerGraph) (1.3.5)\n",
            "Collecting pyTigerDriver\n",
            "  Downloading pyTigerDriver-1.0.14-py3-none-any.whl (8.7 kB)\n",
            "Requirement already satisfied: pytz>=2017.3 in /usr/local/lib/python3.7/dist-packages (from pandas->pyTigerGraph) (2022.1)\n",
            "Requirement already satisfied: numpy>=1.17.3 in /usr/local/lib/python3.7/dist-packages (from pandas->pyTigerGraph) (1.21.6)\n",
            "Requirement already satisfied: python-dateutil>=2.7.3 in /usr/local/lib/python3.7/dist-packages (from pandas->pyTigerGraph) (2.8.2)\n",
            "Requirement already satisfied: six>=1.5 in /usr/local/lib/python3.7/dist-packages (from python-dateutil>=2.7.3->pandas->pyTigerGraph) (1.15.0)\n",
            "Requirement already satisfied: certifi>=2017.4.17 in /usr/local/lib/python3.7/dist-packages (from requests->pyTigerGraph) (2021.10.8)\n",
            "Requirement already satisfied: chardet<4,>=3.0.2 in /usr/local/lib/python3.7/dist-packages (from requests->pyTigerGraph) (3.0.4)\n",
            "Requirement already satisfied: urllib3!=1.25.0,!=1.25.1,<1.26,>=1.21.1 in /usr/local/lib/python3.7/dist-packages (from requests->pyTigerGraph) (1.24.3)\n",
            "Requirement already satisfied: idna<3,>=2.5 in /usr/local/lib/python3.7/dist-packages (from requests->pyTigerGraph) (2.10)\n",
            "Requirement already satisfied: decorator>=3.4.0 in /usr/local/lib/python3.7/dist-packages (from validators->pyTigerGraph) (4.4.2)\n",
            "Installing collected packages: validators, pyTigerDriver, pyTigerGraph\n",
            "Successfully installed pyTigerDriver-1.0.14 pyTigerGraph-0.0.9.9.2 validators-0.18.2\n"
          ]
        }
      ],
      "source": [
        "!pip install pyTigerGraph"
      ]
    },
    {
      "cell_type": "code",
      "source": [
        "!pip install --user graphistry"
      ],
      "metadata": {
        "colab": {
          "base_uri": "https://localhost:8080/"
        },
        "id": "0k8ACIjPNtcP",
        "outputId": "9dfc9533-02fa-4294-b67f-2ee9e7c86d8e"
      },
      "execution_count": 4,
      "outputs": [
        {
          "output_type": "stream",
          "name": "stdout",
          "text": [
            "Collecting graphistry\n",
            "  Downloading graphistry-0.23.2-py3-none-any.whl (127 kB)\n",
            "\u001b[?25l\r\u001b[K     |██▋                             | 10 kB 34.3 MB/s eta 0:00:01\r\u001b[K     |█████▏                          | 20 kB 9.0 MB/s eta 0:00:01\r\u001b[K     |███████▊                        | 30 kB 7.9 MB/s eta 0:00:01\r\u001b[K     |██████████▎                     | 40 kB 3.6 MB/s eta 0:00:01\r\u001b[K     |████████████▉                   | 51 kB 3.6 MB/s eta 0:00:01\r\u001b[K     |███████████████▍                | 61 kB 4.3 MB/s eta 0:00:01\r\u001b[K     |██████████████████              | 71 kB 4.5 MB/s eta 0:00:01\r\u001b[K     |████████████████████▋           | 81 kB 4.6 MB/s eta 0:00:01\r\u001b[K     |███████████████████████▏        | 92 kB 5.1 MB/s eta 0:00:01\r\u001b[K     |█████████████████████████▊      | 102 kB 4.3 MB/s eta 0:00:01\r\u001b[K     |████████████████████████████▎   | 112 kB 4.3 MB/s eta 0:00:01\r\u001b[K     |██████████████████████████████▉ | 122 kB 4.3 MB/s eta 0:00:01\r\u001b[K     |████████████████████████████████| 127 kB 4.3 MB/s \n",
            "\u001b[?25hRequirement already satisfied: protobuf>=2.6.0 in /usr/local/lib/python3.7/dist-packages (from graphistry) (3.17.3)\n",
            "Requirement already satisfied: numpy in /usr/local/lib/python3.7/dist-packages (from graphistry) (1.21.6)\n",
            "Requirement already satisfied: pandas>=0.17.0 in /usr/local/lib/python3.7/dist-packages (from graphistry) (1.3.5)\n",
            "Requirement already satisfied: requests in /usr/local/lib/python3.7/dist-packages (from graphistry) (2.23.0)\n",
            "Requirement already satisfied: pyarrow>=0.15.0 in /usr/local/lib/python3.7/dist-packages (from graphistry) (6.0.1)\n",
            "Requirement already satisfied: pytz>=2017.3 in /usr/local/lib/python3.7/dist-packages (from pandas>=0.17.0->graphistry) (2022.1)\n",
            "Requirement already satisfied: python-dateutil>=2.7.3 in /usr/local/lib/python3.7/dist-packages (from pandas>=0.17.0->graphistry) (2.8.2)\n",
            "Requirement already satisfied: six>=1.9 in /usr/local/lib/python3.7/dist-packages (from protobuf>=2.6.0->graphistry) (1.15.0)\n",
            "Requirement already satisfied: chardet<4,>=3.0.2 in /usr/local/lib/python3.7/dist-packages (from requests->graphistry) (3.0.4)\n",
            "Requirement already satisfied: idna<3,>=2.5 in /usr/local/lib/python3.7/dist-packages (from requests->graphistry) (2.10)\n",
            "Requirement already satisfied: urllib3!=1.25.0,!=1.25.1,<1.26,>=1.21.1 in /usr/local/lib/python3.7/dist-packages (from requests->graphistry) (1.24.3)\n",
            "Requirement already satisfied: certifi>=2017.4.17 in /usr/local/lib/python3.7/dist-packages (from requests->graphistry) (2021.10.8)\n",
            "Installing collected packages: graphistry\n",
            "Successfully installed graphistry-0.23.2\n"
          ]
        }
      ]
    },
    {
      "cell_type": "code",
      "execution_count": 5,
      "metadata": {
        "id": "MZ3E0gAb-fLs"
      },
      "outputs": [],
      "source": [
        "import os\n",
        "\n",
        "if not os.getenv(\"IS_TESTING\"):\n",
        "    # Automatically restart kernel after installs\n",
        "    import IPython\n",
        "\n",
        "    app = IPython.Application.instance()\n",
        "    app.kernel.do_shutdown(True)"
      ]
    },
    {
      "cell_type": "code",
      "execution_count": 1,
      "metadata": {
        "id": "AgUBIY71-svr"
      },
      "outputs": [],
      "source": [
        "import pyTigerGraph as tg \n",
        "\n",
        "# Connect to the TigerGraph solution\n",
        "#Here, the supply chain graph name is demo_graph\n",
        "conn = tg.TigerGraphConnection(host=\"https://supply.i.tgcloud.io/\", password=\"tigergraph\", graphname=\"demo_graph\")\n",
        "conn.apiToken = conn.getToken(conn.createSecret())"
      ]
    },
    {
      "cell_type": "code",
      "source": [
        "#set up graph connection\n",
        "conn.gsql('ls')"
      ],
      "metadata": {
        "colab": {
          "base_uri": "https://localhost:8080/",
          "height": 122
        },
        "id": "iW-vDKCGMmU6",
        "outputId": "bfc1dd04-03e0-47b2-b7c8-50b6d9b9ef45"
      },
      "execution_count": 2,
      "outputs": [
        {
          "output_type": "execute_result",
          "data": {
            "text/plain": [
              "'---- Graph demo_graph\\nVertex Types:\\n- VERTEX product(PRIMARY_ID pid STRING, name STRING, price FLOAT, formula STRING) WITH STATS=\"OUTDEGREE_BY_EDGETYPE\", PRIMARY_ID_AS_ATTRIBUTE=\"false\"\\n- VERTEX site(PRIMARY_ID sid STRING, name STRING) WITH STATS=\"OUTDEGREE_BY_EDGETYPE\", PRIMARY_ID_AS_ATTRIBUTE=\"false\"\\n- VERTEX p_order(PRIMARY_ID orderId STRING) WITH STATS=\"OUTDEGREE_BY_EDGETYPE\", PRIMARY_ID_AS_ATTRIBUTE=\"false\"\\n- VERTEX stocking(PRIMARY_ID stockingId STRING) WITH STATS=\"OUTDEGREE_BY_EDGETYPE\", PRIMARY_ID_AS_ATTRIBUTE=\"false\"\\nEdge Types:\\n- DIRECTED EDGE usedBy(FROM product, TO product, formula_order STRING, useAmount FLOAT) WITH REVERSE_EDGE=\"reverseUsedBy\"\\n- DIRECTED EDGE reverseUsedBy(FROM product, TO product, formula_order STRING, useAmount FLOAT) WITH REVERSE_EDGE=\"usedBy\"\\n- DIRECTED EDGE deliver(FROM site, TO site, itemId STRING) WITH REVERSE_EDGE=\"reverseDeliver\"\\n- DIRECTED EDGE reverseDeliver(FROM site, TO site, itemId STRING) WITH REVERSE_EDGE=\"deliver\"\\n- DIRECTED EDGE produce(FROM site, TO product) WITH REVERSE_EDGE=\"reverseProduce\"\\n- DIRECTED EDGE reverseProduce(FROM product, TO site) WITH REVERSE_EDGE=\"produce\"\\n- UNDIRECTED EDGE prodOrder(FROM p_order, TO product, amount INT)\\n- UNDIRECTED EDGE prodStocking(FROM stocking, TO product, amount INT)\\n\\nGraphs:\\n- Graph demo_graph(product:v, site:v, p_order:v, stocking:v, usedBy:e, reverseUsedBy:e, deliver:e, reverseDeliver:e, produce:e, reverseProduce:e, prodOrder:e, prodStocking:e)\\nJobs:\\n- CREATE LOADING JOB load_job_usedBy_csv_1561418162526 FOR GRAPH demo_graph {\\nDEFINE FILENAME MyDataSource;\\nLOAD MyDataSource TO EDGE usedBy VALUES($1, $0, $2, $3) USING SEPARATOR=\",\", HEADER=\"true\", EOL=\"\\\\n\";\\n}\\n\\n- CREATE LOADING JOB load_job_product_csv_1561418227025 FOR GRAPH demo_graph {\\nDEFINE FILENAME MyDataSource;\\nLOAD MyDataSource TO VERTEX product VALUES($0, $0, $1, $2) USING SEPARATOR=\",\", HEADER=\"false\", EOL=\"\\\\n\";\\n}\\n\\n- CREATE LOADING JOB load_job_order_csv_1561418264123 FOR GRAPH demo_graph {\\nDEFINE FILENAME MyDataSource;\\nLOAD MyDataSource TO EDGE prodOrder VALUES(gsql_concat($0,$2), $0, $1) USING SEPARATOR=\",\", HEADER=\"true\", EOL=\"\\\\n\";\\n}\\n\\n- CREATE LOADING JOB load_job_stocking_csv_1561418318144 FOR GRAPH demo_graph {\\nDEFINE FILENAME MyDataSource;\\nLOAD MyDataSource TO EDGE prodStocking VALUES(gsql_concat($0,$2), $0, $1) USING SEPARATOR=\",\", HEADER=\"true\", EOL=\"\\\\n\";\\n}\\n\\n- CREATE LOADING JOB load_job_produce_csv_1561418382760 FOR GRAPH demo_graph {\\nDEFINE FILENAME MyDataSource;\\nLOAD MyDataSource TO VERTEX site VALUES($0, $0) USING SEPARATOR=\",\", HEADER=\"true\", EOL=\"\\\\n\";\\nLOAD MyDataSource TO EDGE produce VALUES($0, $1) USING SEPARATOR=\",\", HEADER=\"true\", EOL=\"\\\\n\";\\n}\\n\\n- CREATE LOADING JOB load_job_deliver_csv_1561418432419 FOR GRAPH demo_graph {\\nDEFINE FILENAME MyDataSource;\\nLOAD MyDataSource TO EDGE deliver VALUES($0, $1, $2) USING SEPARATOR=\",\", HEADER=\"true\", EOL=\"\\\\n\";\\n}\\n\\nQueries:\\n- checkStocking(vertex<product> input, uint amount) (installed v2)\\n- impactAnalysis(set<vertex<site>> affectedSites, uint maxDepth) (installed v2)\\n- pricePrediction(set<string> input, int maxIteration, bool doUpdate) (installed v2)\\n- showWholeGraph() (installed v2)\\n\\n\\n\\n'"
            ],
            "application/vnd.google.colaboratory.intrinsic+json": {
              "type": "string"
            }
          },
          "metadata": {},
          "execution_count": 2
        }
      ]
    },
    {
      "cell_type": "code",
      "source": [
        "#connect to graphistry\n",
        "import graphistry\n",
        "#graphistry connection details\n",
        "graphistry.register(api=3, protocol=\"https\", server=\"hub.graphistry.com\", username=\"Chaitanya\", password=\"Abcd@1234\")"
      ],
      "metadata": {
        "id": "WRq_6lA2NdU-"
      },
      "execution_count": 3,
      "outputs": []
    },
    {
      "cell_type": "code",
      "source": [
        "import pandas as pd \n",
        "import numpy as np\n",
        "import plotly.express as px"
      ],
      "metadata": {
        "id": "sP9yu4u1M7q7"
      },
      "execution_count": 5,
      "outputs": []
    },
    {
      "cell_type": "markdown",
      "source": [
        "**showWholeGraph**\n",
        "This query will return all the edges and vertices of the graph\n"
      ],
      "metadata": {
        "id": "UxQ0w6pPMri2"
      }
    },
    {
      "cell_type": "code",
      "source": [
        "#running showWholeGraph query, processing and analysing results using graphistry\n",
        "showGraph = conn.runInstalledQuery(\"showWholeGraph\") \n",
        "print(showGraph)"
      ],
      "metadata": {
        "colab": {
          "base_uri": "https://localhost:8080/"
        },
        "id": "9LmNFXp1MvbA",
        "outputId": "632dbd66-f837-4b9e-a8c2-ef8b548235b0"
      },
      "execution_count": 6,
      "outputs": [
        {
          "output_type": "stream",
          "name": "stdout",
          "text": [
            "[{'Start': [{'v_id': 'site14', 'v_type': 'site', 'attributes': {'name': 'site14'}}, {'v_id': 'CAR WHEEL SET1492012930', 'v_type': 'p_order', 'attributes': {}}, {'v_id': 'CAR RIMS', 'v_type': 'product', 'attributes': {'name': 'CAR RIMS', 'price': 80, 'formula': '$1+50+$2'}}, {'v_id': 'RUBBER1467411803', 'v_type': 'stocking', 'attributes': {}}, {'v_id': 'VALVE STEM1467411893', 'v_type': 'stocking', 'attributes': {}}, {'v_id': 'TIRES', 'v_type': 'product', 'attributes': {'name': 'TIRES', 'price': 0.2, 'formula': '($1+$2)*0.8'}}, {'v_id': 'TRUCK RIMS', 'v_type': 'product', 'attributes': {'name': 'TRUCK RIMS', 'price': 110, 'formula': '($1+$2+$3)*0.8'}}, {'v_id': 'site3', 'v_type': 'site', 'attributes': {'name': 'site3'}}, {'v_id': 'STEEL RODS1467411848', 'v_type': 'stocking', 'attributes': {}}, {'v_id': 'RUBBER', 'v_type': 'product', 'attributes': {'name': 'RUBBER', 'price': 0.2, 'formula': ''}}, {'v_id': 'CAR WHEEL SET', 'v_type': 'product', 'attributes': {'name': 'CAR WHEEL SET', 'price': 840, 'formula': '$1+10+$2*0.5'}}, {'v_id': 'ALUMINUM RODS', 'v_type': 'product', 'attributes': {'name': 'ALUMINUM RODS', 'price': 0.2, 'formula': ''}}, {'v_id': 'CONTROLLER', 'v_type': 'product', 'attributes': {'name': 'CONTROLLER', 'price': 32, 'formula': ''}}, {'v_id': 'ABS MODULE', 'v_type': 'product', 'attributes': {'name': 'ABS MODULE', 'price': 32, 'formula': '($1)*0.82'}}, {'v_id': 'VALVE STEM', 'v_type': 'product', 'attributes': {'name': 'VALVE STEM', 'price': 30, 'formula': ''}}, {'v_id': 'site9', 'v_type': 'site', 'attributes': {'name': 'site9'}}, {'v_id': 'TRUCK WHEEL SET', 'v_type': 'product', 'attributes': {'name': 'TRUCK WHEEL SET', 'price': 2000, 'formula': '$1+$2'}}, {'v_id': 'TPM ASSEMBLY', 'v_type': 'product', 'attributes': {'name': 'TPM ASSEMBLY', 'price': 99, 'formula': '($1+$2+$3)*0.8'}}, {'v_id': 'site15', 'v_type': 'site', 'attributes': {'name': 'site15'}}, {'v_id': 'SENSOR', 'v_type': 'product', 'attributes': {'name': 'SENSOR', 'price': 0.2, 'formula': ''}}, {'v_id': 'BELTS', 'v_type': 'product', 'attributes': {'name': 'BELTS', 'price': 0.6, 'formula': '$1+22'}}, {'v_id': 'site10', 'v_type': 'site', 'attributes': {'name': 'site10'}}, {'v_id': 'STEEL RODS', 'v_type': 'product', 'attributes': {'name': 'STEEL RODS', 'price': 0.2, 'formula': ''}}, {'v_id': 'site2', 'v_type': 'site', 'attributes': {'name': 'site2'}}, {'v_id': 'site1', 'v_type': 'site', 'attributes': {'name': 'site1'}}, {'v_id': 'site11', 'v_type': 'site', 'attributes': {'name': 'site11'}}, {'v_id': 'site7', 'v_type': 'site', 'attributes': {'name': 'site7'}}, {'v_id': 'site12', 'v_type': 'site', 'attributes': {'name': 'site12'}}, {'v_id': 'site8', 'v_type': 'site', 'attributes': {'name': 'site8'}}, {'v_id': 'CONTROLLER1467411945', 'v_type': 'stocking', 'attributes': {}}, {'v_id': 'TRUCK WHEEL SET1429391023', 'v_type': 'p_order', 'attributes': {}}, {'v_id': 'site13', 'v_type': 'site', 'attributes': {'name': 'site13'}}, {'v_id': 'site4', 'v_type': 'site', 'attributes': {'name': 'site4'}}, {'v_id': 'SENSOR1467411871', 'v_type': 'stocking', 'attributes': {}}, {'v_id': 'site5', 'v_type': 'site', 'attributes': {'name': 'site5'}}, {'v_id': 'ALUMINUM RODS1467411917', 'v_type': 'stocking', 'attributes': {}}]}, {'@@displaySet': [{'e_type': 'deliver', 'from_id': 'site8', 'from_type': 'site', 'to_id': 'site14', 'to_type': 'site', 'directed': True, 'attributes': {'itemId': 'CONTROLLER'}}, {'e_type': 'produce', 'from_id': 'site11', 'from_type': 'site', 'to_id': 'RUBBER', 'to_type': 'product', 'directed': True, 'attributes': {}}, {'e_type': 'deliver', 'from_id': 'site5', 'from_type': 'site', 'to_id': 'site4', 'to_type': 'site', 'directed': True, 'attributes': {'itemId': 'ALUMINUM RODS'}}, {'e_type': 'usedBy', 'from_id': 'BELTS', 'from_type': 'product', 'to_id': 'TIRES', 'to_type': 'product', 'directed': True, 'attributes': {'formula_order': '1', 'useAmount': 200}}, {'e_type': 'prodStocking', 'from_id': 'CONTROLLER1467411945', 'from_type': 'stocking', 'to_id': 'CONTROLLER', 'to_type': 'product', 'directed': False, 'attributes': {'amount': 2900}}, {'e_type': 'usedBy', 'from_id': 'CAR RIMS', 'from_type': 'product', 'to_id': 'CAR WHEEL SET', 'to_type': 'product', 'directed': True, 'attributes': {'formula_order': '2', 'useAmount': 4}}, {'e_type': 'produce', 'from_id': 'site3', 'from_type': 'site', 'to_id': 'CAR WHEEL SET', 'to_type': 'product', 'directed': True, 'attributes': {}}, {'e_type': 'deliver', 'from_id': 'site5', 'from_type': 'site', 'to_id': 'site9', 'to_type': 'site', 'directed': True, 'attributes': {'itemId': 'STEEL RODS'}}, {'e_type': 'prodStocking', 'from_id': 'VALVE STEM', 'from_type': 'product', 'to_id': 'VALVE STEM1467411893', 'to_type': 'stocking', 'directed': False, 'attributes': {'amount': 10000000}}, {'e_type': 'usedBy', 'from_id': 'TRUCK RIMS', 'from_type': 'product', 'to_id': 'TRUCK WHEEL SET', 'to_type': 'product', 'directed': True, 'attributes': {'formula_order': '2', 'useAmount': 16}}, {'e_type': 'produce', 'from_id': 'site7', 'from_type': 'site', 'to_id': 'VALVE STEM', 'to_type': 'product', 'directed': True, 'attributes': {}}, {'e_type': 'usedBy', 'from_id': 'TPM ASSEMBLY', 'from_type': 'product', 'to_id': 'TRUCK RIMS', 'to_type': 'product', 'directed': True, 'attributes': {'formula_order': '2', 'useAmount': 1}}, {'e_type': 'prodStocking', 'from_id': 'SENSOR', 'from_type': 'product', 'to_id': 'SENSOR1467411871', 'to_type': 'stocking', 'directed': False, 'attributes': {'amount': 5000000}}, {'e_type': 'prodStocking', 'from_id': 'SENSOR1467411871', 'from_type': 'stocking', 'to_id': 'SENSOR', 'to_type': 'product', 'directed': False, 'attributes': {'amount': 5000000}}, {'e_type': 'usedBy', 'from_id': 'TIRES', 'from_type': 'product', 'to_id': 'TRUCK WHEEL SET', 'to_type': 'product', 'directed': True, 'attributes': {'formula_order': '1', 'useAmount': 16}}, {'e_type': 'deliver', 'from_id': 'site11', 'from_type': 'site', 'to_id': 'site12', 'to_type': 'site', 'directed': True, 'attributes': {'itemId': 'RUBBER'}}, {'e_type': 'produce', 'from_id': 'site9', 'from_type': 'site', 'to_id': 'BELTS', 'to_type': 'product', 'directed': True, 'attributes': {}}, {'e_type': 'prodStocking', 'from_id': 'VALVE STEM1467411893', 'from_type': 'stocking', 'to_id': 'VALVE STEM', 'to_type': 'product', 'directed': False, 'attributes': {'amount': 10000000}}, {'e_type': 'prodStocking', 'from_id': 'ALUMINUM RODS', 'from_type': 'product', 'to_id': 'ALUMINUM RODS1467411917', 'to_type': 'stocking', 'directed': False, 'attributes': {'amount': 1740000}}, {'e_type': 'deliver', 'from_id': 'site2', 'from_type': 'site', 'to_id': 'site1', 'to_type': 'site', 'directed': True, 'attributes': {'itemId': 'TIRES'}}, {'e_type': 'prodStocking', 'from_id': 'STEEL RODS', 'from_type': 'product', 'to_id': 'STEEL RODS1467411848', 'to_type': 'stocking', 'directed': False, 'attributes': {'amount': 9080000}}, {'e_type': 'usedBy', 'from_id': 'TIRES', 'from_type': 'product', 'to_id': 'CAR WHEEL SET', 'to_type': 'product', 'directed': True, 'attributes': {'formula_order': '1', 'useAmount': 4}}, {'e_type': 'prodOrder', 'from_id': 'CAR WHEEL SET', 'from_type': 'product', 'to_id': 'CAR WHEEL SET1492012930', 'to_type': 'p_order', 'directed': False, 'attributes': {'amount': 20}}, {'e_type': 'produce', 'from_id': 'site2', 'from_type': 'site', 'to_id': 'TIRES', 'to_type': 'product', 'directed': True, 'attributes': {}}, {'e_type': 'prodOrder', 'from_id': 'CAR WHEEL SET1492012930', 'from_type': 'p_order', 'to_id': 'CAR WHEEL SET', 'to_type': 'product', 'directed': False, 'attributes': {'amount': 20}}, {'e_type': 'deliver', 'from_id': 'site7', 'from_type': 'site', 'to_id': 'site13', 'to_type': 'site', 'directed': True, 'attributes': {'itemId': 'VALVE STEM'}}, {'e_type': 'usedBy', 'from_id': 'ABS MODULE', 'from_type': 'product', 'to_id': 'CAR RIMS', 'to_type': 'product', 'directed': True, 'attributes': {'formula_order': '1', 'useAmount': 1}}, {'e_type': 'produce', 'from_id': 'site15', 'from_type': 'site', 'to_id': 'TRUCK RIMS', 'to_type': 'product', 'directed': True, 'attributes': {}}, {'e_type': 'prodStocking', 'from_id': 'ALUMINUM RODS1467411917', 'from_type': 'stocking', 'to_id': 'ALUMINUM RODS', 'to_type': 'product', 'directed': False, 'attributes': {'amount': 1740000}}, {'e_type': 'usedBy', 'from_id': 'CONTROLLER', 'from_type': 'product', 'to_id': 'TPM ASSEMBLY', 'to_type': 'product', 'directed': True, 'attributes': {'formula_order': '2', 'useAmount': 1}}, {'e_type': 'produce', 'from_id': 'site12', 'from_type': 'site', 'to_id': 'CAR WHEEL SET', 'to_type': 'product', 'directed': True, 'attributes': {}}, {'e_type': 'deliver', 'from_id': 'site2', 'from_type': 'site', 'to_id': 'site12', 'to_type': 'site', 'directed': True, 'attributes': {'itemId': 'TIRES'}}, {'e_type': 'prodStocking', 'from_id': 'STEEL RODS1467411848', 'from_type': 'stocking', 'to_id': 'STEEL RODS', 'to_type': 'product', 'directed': False, 'attributes': {'amount': 9080000}}, {'e_type': 'deliver', 'from_id': 'site5', 'from_type': 'site', 'to_id': 'site15', 'to_type': 'site', 'directed': True, 'attributes': {'itemId': 'STEEL RODS'}}, {'e_type': 'usedBy', 'from_id': 'VALVE STEM', 'from_type': 'product', 'to_id': 'TPM ASSEMBLY', 'to_type': 'product', 'directed': True, 'attributes': {'formula_order': '3', 'useAmount': 1}}, {'e_type': 'usedBy', 'from_id': 'STEEL RODS', 'from_type': 'product', 'to_id': 'TRUCK RIMS', 'to_type': 'product', 'directed': True, 'attributes': {'formula_order': '1', 'useAmount': 8000}}, {'e_type': 'prodStocking', 'from_id': 'RUBBER', 'from_type': 'product', 'to_id': 'RUBBER1467411803', 'to_type': 'stocking', 'directed': False, 'attributes': {'amount': 96100}}, {'e_type': 'deliver', 'from_id': 'site15', 'from_type': 'site', 'to_id': 'site1', 'to_type': 'site', 'directed': True, 'attributes': {'itemId': 'TRUCK RIM'}}, {'e_type': 'prodStocking', 'from_id': 'RUBBER1467411803', 'from_type': 'stocking', 'to_id': 'RUBBER', 'to_type': 'product', 'directed': False, 'attributes': {'amount': 96100}}, {'e_type': 'usedBy', 'from_id': 'ALUMINUM RODS', 'from_type': 'product', 'to_id': 'CAR RIMS', 'to_type': 'product', 'directed': True, 'attributes': {'formula_order': '2', 'useAmount': 6000}}, {'e_type': 'deliver', 'from_id': 'site9', 'from_type': 'site', 'to_id': 'site2', 'to_type': 'site', 'directed': True, 'attributes': {'itemId': 'BELTS'}}, {'e_type': 'usedBy', 'from_id': 'ABS MODULE', 'from_type': 'product', 'to_id': 'TRUCK RIMS', 'to_type': 'product', 'directed': True, 'attributes': {'formula_order': '3', 'useAmount': 1}}, {'e_type': 'deliver', 'from_id': 'site8', 'from_type': 'site', 'to_id': 'site13', 'to_type': 'site', 'directed': True, 'attributes': {'itemId': 'CONTROLLER'}}, {'e_type': 'produce', 'from_id': 'site10', 'from_type': 'site', 'to_id': 'RUBBER', 'to_type': 'product', 'directed': True, 'attributes': {}}, {'e_type': 'produce', 'from_id': 'site8', 'from_type': 'site', 'to_id': 'CONTROLLER', 'to_type': 'product', 'directed': True, 'attributes': {}}, {'e_type': 'usedBy', 'from_id': 'CONTROLLER', 'from_type': 'product', 'to_id': 'ABS MODULE', 'to_type': 'product', 'directed': True, 'attributes': {'formula_order': '1', 'useAmount': 2}}, {'e_type': 'produce', 'from_id': 'site8', 'from_type': 'site', 'to_id': 'SENSOR', 'to_type': 'product', 'directed': True, 'attributes': {}}, {'e_type': 'usedBy', 'from_id': 'RUBBER', 'from_type': 'product', 'to_id': 'TIRES', 'to_type': 'product', 'directed': True, 'attributes': {'formula_order': '2', 'useAmount': 100}}, {'e_type': 'prodOrder', 'from_id': 'TRUCK WHEEL SET1429391023', 'from_type': 'p_order', 'to_id': 'TRUCK WHEEL SET', 'to_type': 'product', 'directed': False, 'attributes': {'amount': 55}}, {'e_type': 'produce', 'from_id': 'site1', 'from_type': 'site', 'to_id': 'TRUCK WHEEL SET', 'to_type': 'product', 'directed': True, 'attributes': {}}, {'e_type': 'prodOrder', 'from_id': 'TRUCK WHEEL SET', 'from_type': 'product', 'to_id': 'TRUCK WHEEL SET1429391023', 'to_type': 'p_order', 'directed': False, 'attributes': {'amount': 55}}, {'e_type': 'produce', 'from_id': 'site13', 'from_type': 'site', 'to_id': 'TPM ASSEMBLY', 'to_type': 'product', 'directed': True, 'attributes': {}}, {'e_type': 'prodStocking', 'from_id': 'CONTROLLER', 'from_type': 'product', 'to_id': 'CONTROLLER1467411945', 'to_type': 'stocking', 'directed': False, 'attributes': {'amount': 2900}}, {'e_type': 'deliver', 'from_id': 'site4', 'from_type': 'site', 'to_id': 'site3', 'to_type': 'site', 'directed': True, 'attributes': {'itemId': 'CAR RIMS'}}, {'e_type': 'produce', 'from_id': 'site4', 'from_type': 'site', 'to_id': 'CAR RIMS', 'to_type': 'product', 'directed': True, 'attributes': {}}, {'e_type': 'produce', 'from_id': 'site5', 'from_type': 'site', 'to_id': 'ALUMINUM RODS', 'to_type': 'product', 'directed': True, 'attributes': {}}, {'e_type': 'usedBy', 'from_id': 'STEEL RODS', 'from_type': 'product', 'to_id': 'BELTS', 'to_type': 'product', 'directed': True, 'attributes': {'formula_order': '1', 'useAmount': 10}}, {'e_type': 'produce', 'from_id': 'site5', 'from_type': 'site', 'to_id': 'STEEL RODS', 'to_type': 'product', 'directed': True, 'attributes': {}}, {'e_type': 'usedBy', 'from_id': 'SENSOR', 'from_type': 'product', 'to_id': 'TPM ASSEMBLY', 'to_type': 'product', 'directed': True, 'attributes': {'formula_order': '1', 'useAmount': 1}}, {'e_type': 'produce', 'from_id': 'site14', 'from_type': 'site', 'to_id': 'ABS MODULE', 'to_type': 'product', 'directed': True, 'attributes': {}}, {'e_type': 'deliver', 'from_id': 'site14', 'from_type': 'site', 'to_id': 'site4', 'to_type': 'site', 'directed': True, 'attributes': {'itemId': 'ABS MODULE'}}]}]\n"
          ]
        }
      ]
    },
    {
      "cell_type": "code",
      "source": [
        "graph_df = pd.DataFrame(showGraph[1]['@@displaySet'])\n",
        "print(graph_df)"
      ],
      "metadata": {
        "colab": {
          "base_uri": "https://localhost:8080/"
        },
        "id": "cSBACSWNNJ2z",
        "outputId": "20b2e619-b364-42ac-da09-7a65ebc6d3ad"
      },
      "execution_count": 7,
      "outputs": [
        {
          "output_type": "stream",
          "name": "stdout",
          "text": [
            "          e_type               from_id from_type         to_id  to_type  \\\n",
            "0        deliver                 site8      site        site14     site   \n",
            "1        produce                site11      site        RUBBER  product   \n",
            "2        deliver                 site5      site         site4     site   \n",
            "3         usedBy                 BELTS   product         TIRES  product   \n",
            "4   prodStocking  CONTROLLER1467411945  stocking    CONTROLLER  product   \n",
            "..           ...                   ...       ...           ...      ...   \n",
            "56        usedBy            STEEL RODS   product         BELTS  product   \n",
            "57       produce                 site5      site    STEEL RODS  product   \n",
            "58        usedBy                SENSOR   product  TPM ASSEMBLY  product   \n",
            "59       produce                site14      site    ABS MODULE  product   \n",
            "60       deliver                site14      site         site4     site   \n",
            "\n",
            "    directed                                attributes  \n",
            "0       True                  {'itemId': 'CONTROLLER'}  \n",
            "1       True                                        {}  \n",
            "2       True               {'itemId': 'ALUMINUM RODS'}  \n",
            "3       True  {'formula_order': '1', 'useAmount': 200}  \n",
            "4      False                          {'amount': 2900}  \n",
            "..       ...                                       ...  \n",
            "56      True   {'formula_order': '1', 'useAmount': 10}  \n",
            "57      True                                        {}  \n",
            "58      True    {'formula_order': '1', 'useAmount': 1}  \n",
            "59      True                                        {}  \n",
            "60      True                  {'itemId': 'ABS MODULE'}  \n",
            "\n",
            "[61 rows x 7 columns]\n"
          ]
        }
      ]
    },
    {
      "cell_type": "code",
      "source": [
        "supply_chain_graph = graphistry.edges(graph_df, 'from_id', 'to_id')"
      ],
      "metadata": {
        "id": "xFOavVYjOyEO"
      },
      "execution_count": 8,
      "outputs": []
    },
    {
      "cell_type": "code",
      "source": [
        "#plotting the entire supply chain graph\n",
        "supply_chain_graph.plot()"
      ],
      "metadata": {
        "colab": {
          "base_uri": "https://localhost:8080/",
          "height": 560
        },
        "id": "-pO4wISbO_FS",
        "outputId": "e4f7e188-aef9-4eec-860c-a0f4479d6ed7"
      },
      "execution_count": 10,
      "outputs": [
        {
          "output_type": "stream",
          "name": "stderr",
          "text": [
            "Failed memoization speedup attempt due to Pandas internal hash function failing. Continuing without memoization speedups.This is fine, but for speedups around skipping re-uploads of previously seen tables, try identifying which columns have types that Pandas cannot hash, and convert them to hashable types like strings.\n"
          ]
        },
        {
          "output_type": "execute_result",
          "data": {
            "text/plain": [
              "<IPython.core.display.HTML object>"
            ],
            "text/html": [
              "\n",
              "            <iframe id=\"1a9705af-af44-47e6-a7f3-466227298641\" src=\"https://hub.graphistry.com/graph/graph.html?dataset=984a54215c2c4067b754ff1aa68444a2&type=arrow&viztoken=3a9dc6ab-a135-4c5b-a5ce-a20dc934702e&usertag=05d519e7-pygraphistry-0.23.2&splashAfter=1650509997&info=true\"\n",
              "                    allowfullscreen=\"true\" webkitallowfullscreen=\"true\" mozallowfullscreen=\"true\"\n",
              "                    oallowfullscreen=\"true\" msallowfullscreen=\"true\"\n",
              "                    style=\"width:100%; height:500px; border: 1px solid #DDD; overflow: hidden\"\n",
              "                    \n",
              "            >\n",
              "            </iframe>\n",
              "        \n",
              "            <script>\n",
              "                try {\n",
              "                  $(\"#1a9705af-af44-47e6-a7f3-466227298641\").bind('mousewheel', function(e) { e.preventDefault(); });\n",
              "                } catch (e) { console.error('exn catching scroll', e); }\n",
              "            </script>\n",
              "        "
            ]
          },
          "metadata": {},
          "execution_count": 10
        }
      ]
    },
    {
      "cell_type": "markdown",
      "source": [
        "**checkStocking**\n",
        "This query calculate the amount of raw material needed to produce the required quantity of product and if the current production capacity is capable of fulfilling the requested demand."
      ],
      "metadata": {
        "id": "U-FOqfEtQLvv"
      }
    },
    {
      "cell_type": "code",
      "source": [
        "import ipywidgets as widgets\n",
        "site_list=['site1','site2','site3','site4','site5','site7','site8','site9','site10','site11','site12','site13','site14','site15']\n",
        "product_list=['CAR WHEEL SET','TRUCK WHEEL SET','TIRES','TRUCK RIMS','CAR RIMS']\n",
        "material_list=['RUBBER','TIRES','STEEL RODS','ALUMINUM RODS','SENSOR','BELTS']\n",
        "price_increment_list=[0.2,0.4,0.6,0.8,1]\n",
        "ordering_amount_list=[2,4,5,8,10]\n",
        "max_iteration_list=[2,4,5,8,10]\n",
        "max_depth_list=[2,4,5,8,10]"
      ],
      "metadata": {
        "id": "m8hQrP50QXsI"
      },
      "execution_count": 11,
      "outputs": []
    },
    {
      "cell_type": "code",
      "source": [
        "#select product name and product quantity \n",
        "product_drop_down=widgets.Dropdown(\n",
        "    options=product_list,\n",
        "    description='Select a product name',\n",
        "    disabled=False,\n",
        ")\n",
        "display(product_drop_down)\n",
        "order_amount_drop_down=widgets.Dropdown(\n",
        "    options=ordering_amount_list,\n",
        "    description='Select the amount of product ordered ',\n",
        "    disabled=False,\n",
        ")\n",
        "display(order_amount_drop_down)"
      ],
      "metadata": {
        "colab": {
          "base_uri": "https://localhost:8080/",
          "height": 79,
          "referenced_widgets": [
            "cce457bed36449b398096ffb243dea1f",
            "eb049bcc82244d3389766c73296cec70",
            "bb332210beb44ad68c3ca9e3494d3bdc",
            "aee53aca2402456dbfe509e16758f686",
            "f1d2bf884c1d4123b938030bae36155e",
            "d7ff002fd8ff499a814d2403ea470675"
          ]
        },
        "id": "Fe8sGn4WQH4k",
        "outputId": "abff0447-e096-49fb-ecce-3f608be3dab6"
      },
      "execution_count": 12,
      "outputs": [
        {
          "output_type": "display_data",
          "data": {
            "text/plain": [
              "Dropdown(description='Select a product name', options=('CAR WHEEL SET', 'TRUCK WHEEL SET', 'TIRES', 'TRUCK RIM…"
            ],
            "application/vnd.jupyter.widget-view+json": {
              "version_major": 2,
              "version_minor": 0,
              "model_id": "cce457bed36449b398096ffb243dea1f"
            }
          },
          "metadata": {}
        },
        {
          "output_type": "display_data",
          "data": {
            "text/plain": [
              "Dropdown(description='Select the amount of product ordered ', options=(2, 4, 5, 8, 10), value=2)"
            ],
            "application/vnd.jupyter.widget-view+json": {
              "version_major": 2,
              "version_minor": 0,
              "model_id": "aee53aca2402456dbfe509e16758f686"
            }
          },
          "metadata": {}
        }
      ]
    },
    {
      "cell_type": "code",
      "source": [
        "#run checkStocking query\n",
        "product=product_drop_down.value\n",
        "order_amount=order_amount_drop_down.value\n",
        "params = {\"input\":product, \"amount\":order_amount} #query's arguments\n",
        "queryName = \"checkStocking\"\n",
        "checkStock = conn.runInstalledQuery(queryName, params) \n",
        "print(checkStock)"
      ],
      "metadata": {
        "colab": {
          "base_uri": "https://localhost:8080/"
        },
        "id": "ZmotG1AzTJDN",
        "outputId": "84936a9d-39f9-4851-ba8b-6de6218b37e4"
      },
      "execution_count": 13,
      "outputs": [
        {
          "output_type": "stream",
          "name": "stdout",
          "text": [
            "[{'Start': [{'v_id': 'TRUCK WHEEL SET', 'v_type': 'product', 'attributes': {'name': 'TRUCK WHEEL SET', 'price': 2000, 'formula': '$1+$2', '@neededAmount': 10, '@consumedAmount': 55, '@instockAmount': 0, '@hasEnoughOfMaterial': False}}]}, {'Start': [{'v_id': 'TIRES', 'v_type': 'product', 'attributes': {'name': 'TIRES', 'price': 0.2, 'formula': '($1+$2)*0.8', '@neededAmount': 160, '@consumedAmount': 960, '@instockAmount': 0, '@hasEnoughOfMaterial': False}}, {'v_id': 'TRUCK RIMS', 'v_type': 'product', 'attributes': {'name': 'TRUCK RIMS', 'price': 110, 'formula': '($1+$2+$3)*0.8', '@neededAmount': 160, '@consumedAmount': 880, '@instockAmount': 0, '@hasEnoughOfMaterial': False}}]}, {'Start': [{'v_id': 'RUBBER', 'v_type': 'product', 'attributes': {'name': 'RUBBER', 'price': 0.2, 'formula': '', '@neededAmount': 16000, '@consumedAmount': 96000, '@instockAmount': 100, '@hasEnoughOfMaterial': False}}, {'v_id': 'ABS MODULE', 'v_type': 'product', 'attributes': {'name': 'ABS MODULE', 'price': 32, 'formula': '($1)*0.82', '@neededAmount': 160, '@consumedAmount': 960, '@instockAmount': 0, '@hasEnoughOfMaterial': False}}, {'v_id': 'TPM ASSEMBLY', 'v_type': 'product', 'attributes': {'name': 'TPM ASSEMBLY', 'price': 99, 'formula': '($1+$2+$3)*0.8', '@neededAmount': 160, '@consumedAmount': 880, '@instockAmount': 0, '@hasEnoughOfMaterial': False}}, {'v_id': 'BELTS', 'v_type': 'product', 'attributes': {'name': 'BELTS', 'price': 0.6, 'formula': '$1+22', '@neededAmount': 32000, '@consumedAmount': 192000, '@instockAmount': 0, '@hasEnoughOfMaterial': False}}, {'v_id': 'STEEL RODS', 'v_type': 'product', 'attributes': {'name': 'STEEL RODS', 'price': 0.2, 'formula': '', '@neededAmount': 1280000, '@consumedAmount': 8960000, '@instockAmount': 120000, '@hasEnoughOfMaterial': False}}]}, {'Start': [{'v_id': 'CONTROLLER', 'v_type': 'product', 'attributes': {'name': 'CONTROLLER', 'price': 32, 'formula': '', '@neededAmount': 480, '@consumedAmount': 2800, '@instockAmount': 100, '@hasEnoughOfMaterial': False}}, {'v_id': 'VALVE STEM', 'v_type': 'product', 'attributes': {'name': 'VALVE STEM', 'price': 30, 'formula': '', '@neededAmount': 160, '@consumedAmount': 880, '@instockAmount': 9999120, '@hasEnoughOfMaterial': True}}, {'v_id': 'SENSOR', 'v_type': 'product', 'attributes': {'name': 'SENSOR', 'price': 0.2, 'formula': '', '@neededAmount': 160, '@consumedAmount': 880, '@instockAmount': 4999120, '@hasEnoughOfMaterial': True}}, {'v_id': 'STEEL RODS', 'v_type': 'product', 'attributes': {'name': 'STEEL RODS', 'price': 0.2, 'formula': '', '@neededAmount': 1600000, '@consumedAmount': 8960000, '@instockAmount': 120000, '@hasEnoughOfMaterial': False}}]}, {'Start': []}, {'@@displaySet': [{'e_type': 'reverseUsedBy', 'from_id': 'TPM ASSEMBLY', 'from_type': 'product', 'to_id': 'SENSOR', 'to_type': 'product', 'directed': True, 'attributes': {'formula_order': '1', 'useAmount': 1}}, {'e_type': 'reverseUsedBy', 'from_id': 'TPM ASSEMBLY', 'from_type': 'product', 'to_id': 'VALVE STEM', 'to_type': 'product', 'directed': True, 'attributes': {'formula_order': '3', 'useAmount': 1}}, {'e_type': 'reverseUsedBy', 'from_id': 'BELTS', 'from_type': 'product', 'to_id': 'STEEL RODS', 'to_type': 'product', 'directed': True, 'attributes': {'formula_order': '1', 'useAmount': 10}}, {'e_type': 'reverseUsedBy', 'from_id': 'TRUCK WHEEL SET', 'from_type': 'product', 'to_id': 'TRUCK RIMS', 'to_type': 'product', 'directed': True, 'attributes': {'formula_order': '2', 'useAmount': 16}}, {'e_type': 'reverseUsedBy', 'from_id': 'TIRES', 'from_type': 'product', 'to_id': 'RUBBER', 'to_type': 'product', 'directed': True, 'attributes': {'formula_order': '2', 'useAmount': 100}}, {'e_type': 'reverseUsedBy', 'from_id': 'TRUCK WHEEL SET', 'from_type': 'product', 'to_id': 'TIRES', 'to_type': 'product', 'directed': True, 'attributes': {'formula_order': '1', 'useAmount': 16}}, {'e_type': 'reverseUsedBy', 'from_id': 'TPM ASSEMBLY', 'from_type': 'product', 'to_id': 'CONTROLLER', 'to_type': 'product', 'directed': True, 'attributes': {'formula_order': '2', 'useAmount': 1}}, {'e_type': 'reverseUsedBy', 'from_id': 'TRUCK RIMS', 'from_type': 'product', 'to_id': 'TPM ASSEMBLY', 'to_type': 'product', 'directed': True, 'attributes': {'formula_order': '2', 'useAmount': 1}}, {'e_type': 'reverseUsedBy', 'from_id': 'TRUCK RIMS', 'from_type': 'product', 'to_id': 'STEEL RODS', 'to_type': 'product', 'directed': True, 'attributes': {'formula_order': '1', 'useAmount': 8000}}, {'e_type': 'reverseUsedBy', 'from_id': 'TRUCK RIMS', 'from_type': 'product', 'to_id': 'ABS MODULE', 'to_type': 'product', 'directed': True, 'attributes': {'formula_order': '3', 'useAmount': 1}}, {'e_type': 'reverseUsedBy', 'from_id': 'ABS MODULE', 'from_type': 'product', 'to_id': 'CONTROLLER', 'to_type': 'product', 'directed': True, 'attributes': {'formula_order': '1', 'useAmount': 2}}, {'e_type': 'reverseUsedBy', 'from_id': 'TIRES', 'from_type': 'product', 'to_id': 'BELTS', 'to_type': 'product', 'directed': True, 'attributes': {'formula_order': '1', 'useAmount': 200}}]}]\n"
          ]
        }
      ]
    },
    {
      "cell_type": "code",
      "source": [
        "#processing and analysing the checkStocking results\n",
        "checkStock_df=pd.DataFrame(checkStock)\n",
        "checkStock_df=checkStock_df.drop(['@@displaySet'], axis = 1)\n",
        "for i in range(len(checkStock_df)) :\n",
        "  if(checkStock_df.loc[i, 'Start']==[]):\n",
        "    checkStock_df=checkStock_df.drop(i)\n",
        "checkStock_df_vals = checkStock_df[~checkStock_df['Start'].isnull()] \n",
        "print(checkStock_df_vals)"
      ],
      "metadata": {
        "colab": {
          "base_uri": "https://localhost:8080/"
        },
        "id": "3GKsDO0dTnOy",
        "outputId": "5206863c-1f02-4e5d-e33d-876e818beb39"
      },
      "execution_count": 14,
      "outputs": [
        {
          "output_type": "stream",
          "name": "stdout",
          "text": [
            "                                               Start\n",
            "0  [{'v_id': 'TRUCK WHEEL SET', 'v_type': 'produc...\n",
            "1  [{'v_id': 'TIRES', 'v_type': 'product', 'attri...\n",
            "2  [{'v_id': 'RUBBER', 'v_type': 'product', 'attr...\n",
            "3  [{'v_id': 'CONTROLLER', 'v_type': 'product', '...\n"
          ]
        }
      ]
    },
    {
      "cell_type": "code",
      "source": [
        "ProductNames=[]\n",
        "Prices=[]\n",
        "IsMaterialAvailable=[]\n",
        "AmountNeeded=[]\n",
        "InstockAmount=[]\n",
        "ConsumedAmount=[]\n",
        "for i in range(len(checkStock_df_vals)) :\n",
        "  print(checkStock_df_vals.loc[i,'Start'][0]['attributes']['name'])\n",
        "  print(checkStock_df_vals.loc[i,'Start'][0]['attributes']['price'])\n",
        "  print(checkStock_df_vals.loc[i,'Start'][0]['attributes']['@hasEnoughOfMaterial'])\n",
        "  ProductNames.append(checkStock_df_vals.loc[i,'Start'][0]['attributes']['name'])\n",
        "  Prices.append(checkStock_df_vals.loc[i,'Start'][0]['attributes']['price'])\n",
        "  IsMaterialAvailable.append(checkStock_df_vals.loc[i,'Start'][0]['attributes']['@hasEnoughOfMaterial'])\n",
        "  AmountNeeded.append(checkStock_df_vals.loc[i,'Start'][0]['attributes']['@neededAmount'])\n",
        "  InstockAmount.append(checkStock_df_vals.loc[i,'Start'][0]['attributes']['@instockAmount'])\n",
        "  ConsumedAmount.append(checkStock_df_vals.loc[i,'Start'][0]['attributes']['@consumedAmount'])\n",
        "processed_checkStock_data= pd.DataFrame(list(zip(ProductNames, Prices,IsMaterialAvailable,AmountNeeded,InstockAmount,ConsumedAmount)),\n",
        "               columns =['ProductNames', 'Prices','IsMaterialAvailable','AmountNeeded','InstockAmount','ConsumedAmount'])\n",
        "print(processed_checkStock_data)"
      ],
      "metadata": {
        "colab": {
          "base_uri": "https://localhost:8080/"
        },
        "id": "9IVwZNr9UTFA",
        "outputId": "0295498b-c915-49de-f0cc-4aa33a4f98f5"
      },
      "execution_count": 15,
      "outputs": [
        {
          "output_type": "stream",
          "name": "stdout",
          "text": [
            "TRUCK WHEEL SET\n",
            "2000\n",
            "False\n",
            "TIRES\n",
            "0.2\n",
            "False\n",
            "RUBBER\n",
            "0.2\n",
            "False\n",
            "CONTROLLER\n",
            "32\n",
            "False\n",
            "      ProductNames  Prices  IsMaterialAvailable  AmountNeeded  InstockAmount  \\\n",
            "0  TRUCK WHEEL SET  2000.0                False            10              0   \n",
            "1            TIRES     0.2                False           160              0   \n",
            "2           RUBBER     0.2                False         16000            100   \n",
            "3       CONTROLLER    32.0                False           480            100   \n",
            "\n",
            "   ConsumedAmount  \n",
            "0              55  \n",
            "1             960  \n",
            "2           96000  \n",
            "3            2800  \n"
          ]
        }
      ]
    },
    {
      "cell_type": "code",
      "source": [
        "#shows the raw material amount needed to produce a product\n",
        "fig = px.pie(processed_checkStock_data, values=\"AmountNeeded\", names=\"ProductNames\",\n",
        "             title='Amount Needed for Product Production',\n",
        "             hover_data=['AmountNeeded'], labels={'Names':'Product Names', 'AmountNeeded':'Amount Required'})\n",
        "fig.show()"
      ],
      "metadata": {
        "colab": {
          "base_uri": "https://localhost:8080/",
          "height": 542
        },
        "id": "oU4iNpuxU0UC",
        "outputId": "94d17ad2-b9f7-4ae8-d9f2-2a36798d8081"
      },
      "execution_count": 16,
      "outputs": [
        {
          "output_type": "display_data",
          "data": {
            "text/html": [
              "<html>\n",
              "<head><meta charset=\"utf-8\" /></head>\n",
              "<body>\n",
              "    <div>            <script src=\"https://cdnjs.cloudflare.com/ajax/libs/mathjax/2.7.5/MathJax.js?config=TeX-AMS-MML_SVG\"></script><script type=\"text/javascript\">if (window.MathJax) {MathJax.Hub.Config({SVG: {font: \"STIX-Web\"}});}</script>                <script type=\"text/javascript\">window.PlotlyConfig = {MathJaxConfig: 'local'};</script>\n",
              "        <script src=\"https://cdn.plot.ly/plotly-2.11.1.min.js\"></script>                <div id=\"e4053551-1969-4464-8c5f-3f56704eaf4e\" class=\"plotly-graph-div\" style=\"height:525px; width:100%;\"></div>            <script type=\"text/javascript\">                                    window.PLOTLYENV=window.PLOTLYENV || {};                                    if (document.getElementById(\"e4053551-1969-4464-8c5f-3f56704eaf4e\")) {                    Plotly.newPlot(                        \"e4053551-1969-4464-8c5f-3f56704eaf4e\",                        [{\"customdata\":[[10],[160],[16000],[480]],\"domain\":{\"x\":[0.0,1.0],\"y\":[0.0,1.0]},\"hovertemplate\":\"ProductNames=%{label}<br>Amount Required=%{customdata[0]}<extra></extra>\",\"labels\":[\"TRUCK WHEEL SET\",\"TIRES\",\"RUBBER\",\"CONTROLLER\"],\"legendgroup\":\"\",\"name\":\"\",\"showlegend\":true,\"values\":[10,160,16000,480],\"type\":\"pie\"}],                        {\"template\":{\"data\":{\"histogram2dcontour\":[{\"type\":\"histogram2dcontour\",\"colorbar\":{\"outlinewidth\":0,\"ticks\":\"\"},\"colorscale\":[[0.0,\"#0d0887\"],[0.1111111111111111,\"#46039f\"],[0.2222222222222222,\"#7201a8\"],[0.3333333333333333,\"#9c179e\"],[0.4444444444444444,\"#bd3786\"],[0.5555555555555556,\"#d8576b\"],[0.6666666666666666,\"#ed7953\"],[0.7777777777777778,\"#fb9f3a\"],[0.8888888888888888,\"#fdca26\"],[1.0,\"#f0f921\"]]}],\"choropleth\":[{\"type\":\"choropleth\",\"colorbar\":{\"outlinewidth\":0,\"ticks\":\"\"}}],\"histogram2d\":[{\"type\":\"histogram2d\",\"colorbar\":{\"outlinewidth\":0,\"ticks\":\"\"},\"colorscale\":[[0.0,\"#0d0887\"],[0.1111111111111111,\"#46039f\"],[0.2222222222222222,\"#7201a8\"],[0.3333333333333333,\"#9c179e\"],[0.4444444444444444,\"#bd3786\"],[0.5555555555555556,\"#d8576b\"],[0.6666666666666666,\"#ed7953\"],[0.7777777777777778,\"#fb9f3a\"],[0.8888888888888888,\"#fdca26\"],[1.0,\"#f0f921\"]]}],\"heatmap\":[{\"type\":\"heatmap\",\"colorbar\":{\"outlinewidth\":0,\"ticks\":\"\"},\"colorscale\":[[0.0,\"#0d0887\"],[0.1111111111111111,\"#46039f\"],[0.2222222222222222,\"#7201a8\"],[0.3333333333333333,\"#9c179e\"],[0.4444444444444444,\"#bd3786\"],[0.5555555555555556,\"#d8576b\"],[0.6666666666666666,\"#ed7953\"],[0.7777777777777778,\"#fb9f3a\"],[0.8888888888888888,\"#fdca26\"],[1.0,\"#f0f921\"]]}],\"heatmapgl\":[{\"type\":\"heatmapgl\",\"colorbar\":{\"outlinewidth\":0,\"ticks\":\"\"},\"colorscale\":[[0.0,\"#0d0887\"],[0.1111111111111111,\"#46039f\"],[0.2222222222222222,\"#7201a8\"],[0.3333333333333333,\"#9c179e\"],[0.4444444444444444,\"#bd3786\"],[0.5555555555555556,\"#d8576b\"],[0.6666666666666666,\"#ed7953\"],[0.7777777777777778,\"#fb9f3a\"],[0.8888888888888888,\"#fdca26\"],[1.0,\"#f0f921\"]]}],\"contourcarpet\":[{\"type\":\"contourcarpet\",\"colorbar\":{\"outlinewidth\":0,\"ticks\":\"\"}}],\"contour\":[{\"type\":\"contour\",\"colorbar\":{\"outlinewidth\":0,\"ticks\":\"\"},\"colorscale\":[[0.0,\"#0d0887\"],[0.1111111111111111,\"#46039f\"],[0.2222222222222222,\"#7201a8\"],[0.3333333333333333,\"#9c179e\"],[0.4444444444444444,\"#bd3786\"],[0.5555555555555556,\"#d8576b\"],[0.6666666666666666,\"#ed7953\"],[0.7777777777777778,\"#fb9f3a\"],[0.8888888888888888,\"#fdca26\"],[1.0,\"#f0f921\"]]}],\"surface\":[{\"type\":\"surface\",\"colorbar\":{\"outlinewidth\":0,\"ticks\":\"\"},\"colorscale\":[[0.0,\"#0d0887\"],[0.1111111111111111,\"#46039f\"],[0.2222222222222222,\"#7201a8\"],[0.3333333333333333,\"#9c179e\"],[0.4444444444444444,\"#bd3786\"],[0.5555555555555556,\"#d8576b\"],[0.6666666666666666,\"#ed7953\"],[0.7777777777777778,\"#fb9f3a\"],[0.8888888888888888,\"#fdca26\"],[1.0,\"#f0f921\"]]}],\"mesh3d\":[{\"type\":\"mesh3d\",\"colorbar\":{\"outlinewidth\":0,\"ticks\":\"\"}}],\"scatter\":[{\"fillpattern\":{\"fillmode\":\"overlay\",\"size\":10,\"solidity\":0.2},\"type\":\"scatter\"}],\"parcoords\":[{\"type\":\"parcoords\",\"line\":{\"colorbar\":{\"outlinewidth\":0,\"ticks\":\"\"}}}],\"scatterpolargl\":[{\"type\":\"scatterpolargl\",\"marker\":{\"colorbar\":{\"outlinewidth\":0,\"ticks\":\"\"}}}],\"bar\":[{\"error_x\":{\"color\":\"#2a3f5f\"},\"error_y\":{\"color\":\"#2a3f5f\"},\"marker\":{\"line\":{\"color\":\"#E5ECF6\",\"width\":0.5},\"pattern\":{\"fillmode\":\"overlay\",\"size\":10,\"solidity\":0.2}},\"type\":\"bar\"}],\"scattergeo\":[{\"type\":\"scattergeo\",\"marker\":{\"colorbar\":{\"outlinewidth\":0,\"ticks\":\"\"}}}],\"scatterpolar\":[{\"type\":\"scatterpolar\",\"marker\":{\"colorbar\":{\"outlinewidth\":0,\"ticks\":\"\"}}}],\"histogram\":[{\"marker\":{\"pattern\":{\"fillmode\":\"overlay\",\"size\":10,\"solidity\":0.2}},\"type\":\"histogram\"}],\"scattergl\":[{\"type\":\"scattergl\",\"marker\":{\"colorbar\":{\"outlinewidth\":0,\"ticks\":\"\"}}}],\"scatter3d\":[{\"type\":\"scatter3d\",\"line\":{\"colorbar\":{\"outlinewidth\":0,\"ticks\":\"\"}},\"marker\":{\"colorbar\":{\"outlinewidth\":0,\"ticks\":\"\"}}}],\"scattermapbox\":[{\"type\":\"scattermapbox\",\"marker\":{\"colorbar\":{\"outlinewidth\":0,\"ticks\":\"\"}}}],\"scatterternary\":[{\"type\":\"scatterternary\",\"marker\":{\"colorbar\":{\"outlinewidth\":0,\"ticks\":\"\"}}}],\"scattercarpet\":[{\"type\":\"scattercarpet\",\"marker\":{\"colorbar\":{\"outlinewidth\":0,\"ticks\":\"\"}}}],\"carpet\":[{\"aaxis\":{\"endlinecolor\":\"#2a3f5f\",\"gridcolor\":\"white\",\"linecolor\":\"white\",\"minorgridcolor\":\"white\",\"startlinecolor\":\"#2a3f5f\"},\"baxis\":{\"endlinecolor\":\"#2a3f5f\",\"gridcolor\":\"white\",\"linecolor\":\"white\",\"minorgridcolor\":\"white\",\"startlinecolor\":\"#2a3f5f\"},\"type\":\"carpet\"}],\"table\":[{\"cells\":{\"fill\":{\"color\":\"#EBF0F8\"},\"line\":{\"color\":\"white\"}},\"header\":{\"fill\":{\"color\":\"#C8D4E3\"},\"line\":{\"color\":\"white\"}},\"type\":\"table\"}],\"barpolar\":[{\"marker\":{\"line\":{\"color\":\"#E5ECF6\",\"width\":0.5},\"pattern\":{\"fillmode\":\"overlay\",\"size\":10,\"solidity\":0.2}},\"type\":\"barpolar\"}],\"pie\":[{\"automargin\":true,\"type\":\"pie\"}]},\"layout\":{\"autotypenumbers\":\"strict\",\"colorway\":[\"#636efa\",\"#EF553B\",\"#00cc96\",\"#ab63fa\",\"#FFA15A\",\"#19d3f3\",\"#FF6692\",\"#B6E880\",\"#FF97FF\",\"#FECB52\"],\"font\":{\"color\":\"#2a3f5f\"},\"hovermode\":\"closest\",\"hoverlabel\":{\"align\":\"left\"},\"paper_bgcolor\":\"white\",\"plot_bgcolor\":\"#E5ECF6\",\"polar\":{\"bgcolor\":\"#E5ECF6\",\"angularaxis\":{\"gridcolor\":\"white\",\"linecolor\":\"white\",\"ticks\":\"\"},\"radialaxis\":{\"gridcolor\":\"white\",\"linecolor\":\"white\",\"ticks\":\"\"}},\"ternary\":{\"bgcolor\":\"#E5ECF6\",\"aaxis\":{\"gridcolor\":\"white\",\"linecolor\":\"white\",\"ticks\":\"\"},\"baxis\":{\"gridcolor\":\"white\",\"linecolor\":\"white\",\"ticks\":\"\"},\"caxis\":{\"gridcolor\":\"white\",\"linecolor\":\"white\",\"ticks\":\"\"}},\"coloraxis\":{\"colorbar\":{\"outlinewidth\":0,\"ticks\":\"\"}},\"colorscale\":{\"sequential\":[[0.0,\"#0d0887\"],[0.1111111111111111,\"#46039f\"],[0.2222222222222222,\"#7201a8\"],[0.3333333333333333,\"#9c179e\"],[0.4444444444444444,\"#bd3786\"],[0.5555555555555556,\"#d8576b\"],[0.6666666666666666,\"#ed7953\"],[0.7777777777777778,\"#fb9f3a\"],[0.8888888888888888,\"#fdca26\"],[1.0,\"#f0f921\"]],\"sequentialminus\":[[0.0,\"#0d0887\"],[0.1111111111111111,\"#46039f\"],[0.2222222222222222,\"#7201a8\"],[0.3333333333333333,\"#9c179e\"],[0.4444444444444444,\"#bd3786\"],[0.5555555555555556,\"#d8576b\"],[0.6666666666666666,\"#ed7953\"],[0.7777777777777778,\"#fb9f3a\"],[0.8888888888888888,\"#fdca26\"],[1.0,\"#f0f921\"]],\"diverging\":[[0,\"#8e0152\"],[0.1,\"#c51b7d\"],[0.2,\"#de77ae\"],[0.3,\"#f1b6da\"],[0.4,\"#fde0ef\"],[0.5,\"#f7f7f7\"],[0.6,\"#e6f5d0\"],[0.7,\"#b8e186\"],[0.8,\"#7fbc41\"],[0.9,\"#4d9221\"],[1,\"#276419\"]]},\"xaxis\":{\"gridcolor\":\"white\",\"linecolor\":\"white\",\"ticks\":\"\",\"title\":{\"standoff\":15},\"zerolinecolor\":\"white\",\"automargin\":true,\"zerolinewidth\":2},\"yaxis\":{\"gridcolor\":\"white\",\"linecolor\":\"white\",\"ticks\":\"\",\"title\":{\"standoff\":15},\"zerolinecolor\":\"white\",\"automargin\":true,\"zerolinewidth\":2},\"scene\":{\"xaxis\":{\"backgroundcolor\":\"#E5ECF6\",\"gridcolor\":\"white\",\"linecolor\":\"white\",\"showbackground\":true,\"ticks\":\"\",\"zerolinecolor\":\"white\",\"gridwidth\":2},\"yaxis\":{\"backgroundcolor\":\"#E5ECF6\",\"gridcolor\":\"white\",\"linecolor\":\"white\",\"showbackground\":true,\"ticks\":\"\",\"zerolinecolor\":\"white\",\"gridwidth\":2},\"zaxis\":{\"backgroundcolor\":\"#E5ECF6\",\"gridcolor\":\"white\",\"linecolor\":\"white\",\"showbackground\":true,\"ticks\":\"\",\"zerolinecolor\":\"white\",\"gridwidth\":2}},\"shapedefaults\":{\"line\":{\"color\":\"#2a3f5f\"}},\"annotationdefaults\":{\"arrowcolor\":\"#2a3f5f\",\"arrowhead\":0,\"arrowwidth\":1},\"geo\":{\"bgcolor\":\"white\",\"landcolor\":\"#E5ECF6\",\"subunitcolor\":\"white\",\"showland\":true,\"showlakes\":true,\"lakecolor\":\"white\"},\"title\":{\"x\":0.05},\"mapbox\":{\"style\":\"light\"}}},\"legend\":{\"tracegroupgap\":0},\"title\":{\"text\":\"Amount Needed for Product Production\"}},                        {\"responsive\": true}                    ).then(function(){\n",
              "                            \n",
              "var gd = document.getElementById('e4053551-1969-4464-8c5f-3f56704eaf4e');\n",
              "var x = new MutationObserver(function (mutations, observer) {{\n",
              "        var display = window.getComputedStyle(gd).display;\n",
              "        if (!display || display === 'none') {{\n",
              "            console.log([gd, 'removed!']);\n",
              "            Plotly.purge(gd);\n",
              "            observer.disconnect();\n",
              "        }}\n",
              "}});\n",
              "\n",
              "// Listen for the removal of the full notebook cells\n",
              "var notebookContainer = gd.closest('#notebook-container');\n",
              "if (notebookContainer) {{\n",
              "    x.observe(notebookContainer, {childList: true});\n",
              "}}\n",
              "\n",
              "// Listen for the clearing of the current output cell\n",
              "var outputEl = gd.closest('.output');\n",
              "if (outputEl) {{\n",
              "    x.observe(outputEl, {childList: true});\n",
              "}}\n",
              "\n",
              "                        })                };                            </script>        </div>\n",
              "</body>\n",
              "</html>"
            ]
          },
          "metadata": {}
        }
      ]
    },
    {
      "cell_type": "code",
      "source": [
        "#shows the amount needed and consumed for the required raw materials\n",
        "fig = px.scatter(processed_checkStock_data, x=\"AmountNeeded\", y=\"ConsumedAmount\",\n",
        "\t         size=\"Prices\", color=\"ProductNames\",\n",
        "                 hover_name=\"ProductNames\", hover_data=processed_checkStock_data.columns,log_x=True, size_max=60)\n",
        "fig.show()"
      ],
      "metadata": {
        "colab": {
          "base_uri": "https://localhost:8080/",
          "height": 542
        },
        "id": "wgU6HWqDU8ni",
        "outputId": "d6e60091-1dc9-415a-89d9-9907cbd36fd5"
      },
      "execution_count": 17,
      "outputs": [
        {
          "output_type": "display_data",
          "data": {
            "text/html": [
              "<html>\n",
              "<head><meta charset=\"utf-8\" /></head>\n",
              "<body>\n",
              "    <div>            <script src=\"https://cdnjs.cloudflare.com/ajax/libs/mathjax/2.7.5/MathJax.js?config=TeX-AMS-MML_SVG\"></script><script type=\"text/javascript\">if (window.MathJax) {MathJax.Hub.Config({SVG: {font: \"STIX-Web\"}});}</script>                <script type=\"text/javascript\">window.PlotlyConfig = {MathJaxConfig: 'local'};</script>\n",
              "        <script src=\"https://cdn.plot.ly/plotly-2.11.1.min.js\"></script>                <div id=\"13aa0943-2828-43be-b274-55847ae008b9\" class=\"plotly-graph-div\" style=\"height:525px; width:100%;\"></div>            <script type=\"text/javascript\">                                    window.PLOTLYENV=window.PLOTLYENV || {};                                    if (document.getElementById(\"13aa0943-2828-43be-b274-55847ae008b9\")) {                    Plotly.newPlot(                        \"13aa0943-2828-43be-b274-55847ae008b9\",                        [{\"customdata\":[[\"TRUCK WHEEL SET\",2000.0,false,0]],\"hovertemplate\":\"<b>%{hovertext}</b><br><br>ProductNames=%{customdata[0]}<br>AmountNeeded=%{x}<br>ConsumedAmount=%{y}<br>Prices=%{customdata[1]}<br>IsMaterialAvailable=%{customdata[2]}<br>InstockAmount=%{customdata[3]}<extra></extra>\",\"hovertext\":[\"TRUCK WHEEL SET\"],\"legendgroup\":\"TRUCK WHEEL SET\",\"marker\":{\"color\":\"#636efa\",\"size\":[2000.0],\"sizemode\":\"area\",\"sizeref\":0.5555555555555556,\"symbol\":\"circle\"},\"mode\":\"markers\",\"name\":\"TRUCK WHEEL SET\",\"orientation\":\"v\",\"showlegend\":true,\"x\":[10],\"xaxis\":\"x\",\"y\":[55],\"yaxis\":\"y\",\"type\":\"scatter\"},{\"customdata\":[[\"TIRES\",0.2,false,0]],\"hovertemplate\":\"<b>%{hovertext}</b><br><br>ProductNames=%{customdata[0]}<br>AmountNeeded=%{x}<br>ConsumedAmount=%{y}<br>Prices=%{customdata[1]}<br>IsMaterialAvailable=%{customdata[2]}<br>InstockAmount=%{customdata[3]}<extra></extra>\",\"hovertext\":[\"TIRES\"],\"legendgroup\":\"TIRES\",\"marker\":{\"color\":\"#EF553B\",\"size\":[0.2],\"sizemode\":\"area\",\"sizeref\":0.5555555555555556,\"symbol\":\"circle\"},\"mode\":\"markers\",\"name\":\"TIRES\",\"orientation\":\"v\",\"showlegend\":true,\"x\":[160],\"xaxis\":\"x\",\"y\":[960],\"yaxis\":\"y\",\"type\":\"scatter\"},{\"customdata\":[[\"RUBBER\",0.2,false,100]],\"hovertemplate\":\"<b>%{hovertext}</b><br><br>ProductNames=%{customdata[0]}<br>AmountNeeded=%{x}<br>ConsumedAmount=%{y}<br>Prices=%{customdata[1]}<br>IsMaterialAvailable=%{customdata[2]}<br>InstockAmount=%{customdata[3]}<extra></extra>\",\"hovertext\":[\"RUBBER\"],\"legendgroup\":\"RUBBER\",\"marker\":{\"color\":\"#00cc96\",\"size\":[0.2],\"sizemode\":\"area\",\"sizeref\":0.5555555555555556,\"symbol\":\"circle\"},\"mode\":\"markers\",\"name\":\"RUBBER\",\"orientation\":\"v\",\"showlegend\":true,\"x\":[16000],\"xaxis\":\"x\",\"y\":[96000],\"yaxis\":\"y\",\"type\":\"scatter\"},{\"customdata\":[[\"CONTROLLER\",32.0,false,100]],\"hovertemplate\":\"<b>%{hovertext}</b><br><br>ProductNames=%{customdata[0]}<br>AmountNeeded=%{x}<br>ConsumedAmount=%{y}<br>Prices=%{customdata[1]}<br>IsMaterialAvailable=%{customdata[2]}<br>InstockAmount=%{customdata[3]}<extra></extra>\",\"hovertext\":[\"CONTROLLER\"],\"legendgroup\":\"CONTROLLER\",\"marker\":{\"color\":\"#ab63fa\",\"size\":[32.0],\"sizemode\":\"area\",\"sizeref\":0.5555555555555556,\"symbol\":\"circle\"},\"mode\":\"markers\",\"name\":\"CONTROLLER\",\"orientation\":\"v\",\"showlegend\":true,\"x\":[480],\"xaxis\":\"x\",\"y\":[2800],\"yaxis\":\"y\",\"type\":\"scatter\"}],                        {\"template\":{\"data\":{\"histogram2dcontour\":[{\"type\":\"histogram2dcontour\",\"colorbar\":{\"outlinewidth\":0,\"ticks\":\"\"},\"colorscale\":[[0.0,\"#0d0887\"],[0.1111111111111111,\"#46039f\"],[0.2222222222222222,\"#7201a8\"],[0.3333333333333333,\"#9c179e\"],[0.4444444444444444,\"#bd3786\"],[0.5555555555555556,\"#d8576b\"],[0.6666666666666666,\"#ed7953\"],[0.7777777777777778,\"#fb9f3a\"],[0.8888888888888888,\"#fdca26\"],[1.0,\"#f0f921\"]]}],\"choropleth\":[{\"type\":\"choropleth\",\"colorbar\":{\"outlinewidth\":0,\"ticks\":\"\"}}],\"histogram2d\":[{\"type\":\"histogram2d\",\"colorbar\":{\"outlinewidth\":0,\"ticks\":\"\"},\"colorscale\":[[0.0,\"#0d0887\"],[0.1111111111111111,\"#46039f\"],[0.2222222222222222,\"#7201a8\"],[0.3333333333333333,\"#9c179e\"],[0.4444444444444444,\"#bd3786\"],[0.5555555555555556,\"#d8576b\"],[0.6666666666666666,\"#ed7953\"],[0.7777777777777778,\"#fb9f3a\"],[0.8888888888888888,\"#fdca26\"],[1.0,\"#f0f921\"]]}],\"heatmap\":[{\"type\":\"heatmap\",\"colorbar\":{\"outlinewidth\":0,\"ticks\":\"\"},\"colorscale\":[[0.0,\"#0d0887\"],[0.1111111111111111,\"#46039f\"],[0.2222222222222222,\"#7201a8\"],[0.3333333333333333,\"#9c179e\"],[0.4444444444444444,\"#bd3786\"],[0.5555555555555556,\"#d8576b\"],[0.6666666666666666,\"#ed7953\"],[0.7777777777777778,\"#fb9f3a\"],[0.8888888888888888,\"#fdca26\"],[1.0,\"#f0f921\"]]}],\"heatmapgl\":[{\"type\":\"heatmapgl\",\"colorbar\":{\"outlinewidth\":0,\"ticks\":\"\"},\"colorscale\":[[0.0,\"#0d0887\"],[0.1111111111111111,\"#46039f\"],[0.2222222222222222,\"#7201a8\"],[0.3333333333333333,\"#9c179e\"],[0.4444444444444444,\"#bd3786\"],[0.5555555555555556,\"#d8576b\"],[0.6666666666666666,\"#ed7953\"],[0.7777777777777778,\"#fb9f3a\"],[0.8888888888888888,\"#fdca26\"],[1.0,\"#f0f921\"]]}],\"contourcarpet\":[{\"type\":\"contourcarpet\",\"colorbar\":{\"outlinewidth\":0,\"ticks\":\"\"}}],\"contour\":[{\"type\":\"contour\",\"colorbar\":{\"outlinewidth\":0,\"ticks\":\"\"},\"colorscale\":[[0.0,\"#0d0887\"],[0.1111111111111111,\"#46039f\"],[0.2222222222222222,\"#7201a8\"],[0.3333333333333333,\"#9c179e\"],[0.4444444444444444,\"#bd3786\"],[0.5555555555555556,\"#d8576b\"],[0.6666666666666666,\"#ed7953\"],[0.7777777777777778,\"#fb9f3a\"],[0.8888888888888888,\"#fdca26\"],[1.0,\"#f0f921\"]]}],\"surface\":[{\"type\":\"surface\",\"colorbar\":{\"outlinewidth\":0,\"ticks\":\"\"},\"colorscale\":[[0.0,\"#0d0887\"],[0.1111111111111111,\"#46039f\"],[0.2222222222222222,\"#7201a8\"],[0.3333333333333333,\"#9c179e\"],[0.4444444444444444,\"#bd3786\"],[0.5555555555555556,\"#d8576b\"],[0.6666666666666666,\"#ed7953\"],[0.7777777777777778,\"#fb9f3a\"],[0.8888888888888888,\"#fdca26\"],[1.0,\"#f0f921\"]]}],\"mesh3d\":[{\"type\":\"mesh3d\",\"colorbar\":{\"outlinewidth\":0,\"ticks\":\"\"}}],\"scatter\":[{\"fillpattern\":{\"fillmode\":\"overlay\",\"size\":10,\"solidity\":0.2},\"type\":\"scatter\"}],\"parcoords\":[{\"type\":\"parcoords\",\"line\":{\"colorbar\":{\"outlinewidth\":0,\"ticks\":\"\"}}}],\"scatterpolargl\":[{\"type\":\"scatterpolargl\",\"marker\":{\"colorbar\":{\"outlinewidth\":0,\"ticks\":\"\"}}}],\"bar\":[{\"error_x\":{\"color\":\"#2a3f5f\"},\"error_y\":{\"color\":\"#2a3f5f\"},\"marker\":{\"line\":{\"color\":\"#E5ECF6\",\"width\":0.5},\"pattern\":{\"fillmode\":\"overlay\",\"size\":10,\"solidity\":0.2}},\"type\":\"bar\"}],\"scattergeo\":[{\"type\":\"scattergeo\",\"marker\":{\"colorbar\":{\"outlinewidth\":0,\"ticks\":\"\"}}}],\"scatterpolar\":[{\"type\":\"scatterpolar\",\"marker\":{\"colorbar\":{\"outlinewidth\":0,\"ticks\":\"\"}}}],\"histogram\":[{\"marker\":{\"pattern\":{\"fillmode\":\"overlay\",\"size\":10,\"solidity\":0.2}},\"type\":\"histogram\"}],\"scattergl\":[{\"type\":\"scattergl\",\"marker\":{\"colorbar\":{\"outlinewidth\":0,\"ticks\":\"\"}}}],\"scatter3d\":[{\"type\":\"scatter3d\",\"line\":{\"colorbar\":{\"outlinewidth\":0,\"ticks\":\"\"}},\"marker\":{\"colorbar\":{\"outlinewidth\":0,\"ticks\":\"\"}}}],\"scattermapbox\":[{\"type\":\"scattermapbox\",\"marker\":{\"colorbar\":{\"outlinewidth\":0,\"ticks\":\"\"}}}],\"scatterternary\":[{\"type\":\"scatterternary\",\"marker\":{\"colorbar\":{\"outlinewidth\":0,\"ticks\":\"\"}}}],\"scattercarpet\":[{\"type\":\"scattercarpet\",\"marker\":{\"colorbar\":{\"outlinewidth\":0,\"ticks\":\"\"}}}],\"carpet\":[{\"aaxis\":{\"endlinecolor\":\"#2a3f5f\",\"gridcolor\":\"white\",\"linecolor\":\"white\",\"minorgridcolor\":\"white\",\"startlinecolor\":\"#2a3f5f\"},\"baxis\":{\"endlinecolor\":\"#2a3f5f\",\"gridcolor\":\"white\",\"linecolor\":\"white\",\"minorgridcolor\":\"white\",\"startlinecolor\":\"#2a3f5f\"},\"type\":\"carpet\"}],\"table\":[{\"cells\":{\"fill\":{\"color\":\"#EBF0F8\"},\"line\":{\"color\":\"white\"}},\"header\":{\"fill\":{\"color\":\"#C8D4E3\"},\"line\":{\"color\":\"white\"}},\"type\":\"table\"}],\"barpolar\":[{\"marker\":{\"line\":{\"color\":\"#E5ECF6\",\"width\":0.5},\"pattern\":{\"fillmode\":\"overlay\",\"size\":10,\"solidity\":0.2}},\"type\":\"barpolar\"}],\"pie\":[{\"automargin\":true,\"type\":\"pie\"}]},\"layout\":{\"autotypenumbers\":\"strict\",\"colorway\":[\"#636efa\",\"#EF553B\",\"#00cc96\",\"#ab63fa\",\"#FFA15A\",\"#19d3f3\",\"#FF6692\",\"#B6E880\",\"#FF97FF\",\"#FECB52\"],\"font\":{\"color\":\"#2a3f5f\"},\"hovermode\":\"closest\",\"hoverlabel\":{\"align\":\"left\"},\"paper_bgcolor\":\"white\",\"plot_bgcolor\":\"#E5ECF6\",\"polar\":{\"bgcolor\":\"#E5ECF6\",\"angularaxis\":{\"gridcolor\":\"white\",\"linecolor\":\"white\",\"ticks\":\"\"},\"radialaxis\":{\"gridcolor\":\"white\",\"linecolor\":\"white\",\"ticks\":\"\"}},\"ternary\":{\"bgcolor\":\"#E5ECF6\",\"aaxis\":{\"gridcolor\":\"white\",\"linecolor\":\"white\",\"ticks\":\"\"},\"baxis\":{\"gridcolor\":\"white\",\"linecolor\":\"white\",\"ticks\":\"\"},\"caxis\":{\"gridcolor\":\"white\",\"linecolor\":\"white\",\"ticks\":\"\"}},\"coloraxis\":{\"colorbar\":{\"outlinewidth\":0,\"ticks\":\"\"}},\"colorscale\":{\"sequential\":[[0.0,\"#0d0887\"],[0.1111111111111111,\"#46039f\"],[0.2222222222222222,\"#7201a8\"],[0.3333333333333333,\"#9c179e\"],[0.4444444444444444,\"#bd3786\"],[0.5555555555555556,\"#d8576b\"],[0.6666666666666666,\"#ed7953\"],[0.7777777777777778,\"#fb9f3a\"],[0.8888888888888888,\"#fdca26\"],[1.0,\"#f0f921\"]],\"sequentialminus\":[[0.0,\"#0d0887\"],[0.1111111111111111,\"#46039f\"],[0.2222222222222222,\"#7201a8\"],[0.3333333333333333,\"#9c179e\"],[0.4444444444444444,\"#bd3786\"],[0.5555555555555556,\"#d8576b\"],[0.6666666666666666,\"#ed7953\"],[0.7777777777777778,\"#fb9f3a\"],[0.8888888888888888,\"#fdca26\"],[1.0,\"#f0f921\"]],\"diverging\":[[0,\"#8e0152\"],[0.1,\"#c51b7d\"],[0.2,\"#de77ae\"],[0.3,\"#f1b6da\"],[0.4,\"#fde0ef\"],[0.5,\"#f7f7f7\"],[0.6,\"#e6f5d0\"],[0.7,\"#b8e186\"],[0.8,\"#7fbc41\"],[0.9,\"#4d9221\"],[1,\"#276419\"]]},\"xaxis\":{\"gridcolor\":\"white\",\"linecolor\":\"white\",\"ticks\":\"\",\"title\":{\"standoff\":15},\"zerolinecolor\":\"white\",\"automargin\":true,\"zerolinewidth\":2},\"yaxis\":{\"gridcolor\":\"white\",\"linecolor\":\"white\",\"ticks\":\"\",\"title\":{\"standoff\":15},\"zerolinecolor\":\"white\",\"automargin\":true,\"zerolinewidth\":2},\"scene\":{\"xaxis\":{\"backgroundcolor\":\"#E5ECF6\",\"gridcolor\":\"white\",\"linecolor\":\"white\",\"showbackground\":true,\"ticks\":\"\",\"zerolinecolor\":\"white\",\"gridwidth\":2},\"yaxis\":{\"backgroundcolor\":\"#E5ECF6\",\"gridcolor\":\"white\",\"linecolor\":\"white\",\"showbackground\":true,\"ticks\":\"\",\"zerolinecolor\":\"white\",\"gridwidth\":2},\"zaxis\":{\"backgroundcolor\":\"#E5ECF6\",\"gridcolor\":\"white\",\"linecolor\":\"white\",\"showbackground\":true,\"ticks\":\"\",\"zerolinecolor\":\"white\",\"gridwidth\":2}},\"shapedefaults\":{\"line\":{\"color\":\"#2a3f5f\"}},\"annotationdefaults\":{\"arrowcolor\":\"#2a3f5f\",\"arrowhead\":0,\"arrowwidth\":1},\"geo\":{\"bgcolor\":\"white\",\"landcolor\":\"#E5ECF6\",\"subunitcolor\":\"white\",\"showland\":true,\"showlakes\":true,\"lakecolor\":\"white\"},\"title\":{\"x\":0.05},\"mapbox\":{\"style\":\"light\"}}},\"xaxis\":{\"anchor\":\"y\",\"domain\":[0.0,1.0],\"title\":{\"text\":\"AmountNeeded\"},\"type\":\"log\"},\"yaxis\":{\"anchor\":\"x\",\"domain\":[0.0,1.0],\"title\":{\"text\":\"ConsumedAmount\"}},\"legend\":{\"title\":{\"text\":\"ProductNames\"},\"tracegroupgap\":0,\"itemsizing\":\"constant\"},\"margin\":{\"t\":60}},                        {\"responsive\": true}                    ).then(function(){\n",
              "                            \n",
              "var gd = document.getElementById('13aa0943-2828-43be-b274-55847ae008b9');\n",
              "var x = new MutationObserver(function (mutations, observer) {{\n",
              "        var display = window.getComputedStyle(gd).display;\n",
              "        if (!display || display === 'none') {{\n",
              "            console.log([gd, 'removed!']);\n",
              "            Plotly.purge(gd);\n",
              "            observer.disconnect();\n",
              "        }}\n",
              "}});\n",
              "\n",
              "// Listen for the removal of the full notebook cells\n",
              "var notebookContainer = gd.closest('#notebook-container');\n",
              "if (notebookContainer) {{\n",
              "    x.observe(notebookContainer, {childList: true});\n",
              "}}\n",
              "\n",
              "// Listen for the clearing of the current output cell\n",
              "var outputEl = gd.closest('.output');\n",
              "if (outputEl) {{\n",
              "    x.observe(outputEl, {childList: true});\n",
              "}}\n",
              "\n",
              "                        })                };                            </script>        </div>\n",
              "</body>\n",
              "</html>"
            ]
          },
          "metadata": {}
        }
      ]
    },
    {
      "cell_type": "code",
      "source": [
        "#analysing the production capacity i.e., raw materail availability\n",
        "fig = px.histogram(processed_checkStock_data, x=\"Prices\", y=\"ProductNames\", color=\"IsMaterialAvailable\",\n",
        "                   marginal=\"box\", # or violin, rug\n",
        "                   hover_data=processed_checkStock_data.columns)\n",
        "fig.show()"
      ],
      "metadata": {
        "colab": {
          "base_uri": "https://localhost:8080/",
          "height": 542
        },
        "id": "VpfMyctWVIV1",
        "outputId": "76de4608-2956-49b4-bfba-1dd69c7c002d"
      },
      "execution_count": 18,
      "outputs": [
        {
          "output_type": "display_data",
          "data": {
            "text/html": [
              "<html>\n",
              "<head><meta charset=\"utf-8\" /></head>\n",
              "<body>\n",
              "    <div>            <script src=\"https://cdnjs.cloudflare.com/ajax/libs/mathjax/2.7.5/MathJax.js?config=TeX-AMS-MML_SVG\"></script><script type=\"text/javascript\">if (window.MathJax) {MathJax.Hub.Config({SVG: {font: \"STIX-Web\"}});}</script>                <script type=\"text/javascript\">window.PlotlyConfig = {MathJaxConfig: 'local'};</script>\n",
              "        <script src=\"https://cdn.plot.ly/plotly-2.11.1.min.js\"></script>                <div id=\"8b3359df-d78d-446f-bfab-b26afd155dec\" class=\"plotly-graph-div\" style=\"height:525px; width:100%;\"></div>            <script type=\"text/javascript\">                                    window.PLOTLYENV=window.PLOTLYENV || {};                                    if (document.getElementById(\"8b3359df-d78d-446f-bfab-b26afd155dec\")) {                    Plotly.newPlot(                        \"8b3359df-d78d-446f-bfab-b26afd155dec\",                        [{\"alignmentgroup\":\"True\",\"bingroup\":\"y\",\"histfunc\":\"sum\",\"hovertemplate\":\"IsMaterialAvailable=False<br>sum of Prices=%{x}<br>ProductNames=%{y}<extra></extra>\",\"legendgroup\":\"False\",\"marker\":{\"color\":\"#636efa\",\"pattern\":{\"shape\":\"\"}},\"name\":\"False\",\"offsetgroup\":\"False\",\"orientation\":\"h\",\"showlegend\":true,\"x\":[2000.0,0.2,0.2,32.0],\"xaxis\":\"x\",\"y\":[\"TRUCK WHEEL SET\",\"TIRES\",\"RUBBER\",\"CONTROLLER\"],\"yaxis\":\"y\",\"type\":\"histogram\"},{\"alignmentgroup\":\"True\",\"customdata\":[[false,10,0,55],[false,160,0,960],[false,16000,100,96000],[false,480,100,2800]],\"hovertemplate\":\"IsMaterialAvailable=%{customdata[0]}<br>ProductNames=%{y}<br>AmountNeeded=%{customdata[1]}<br>InstockAmount=%{customdata[2]}<br>ConsumedAmount=%{customdata[3]}<extra></extra>\",\"legendgroup\":\"False\",\"marker\":{\"color\":\"#636efa\"},\"name\":\"False\",\"notched\":true,\"offsetgroup\":\"False\",\"showlegend\":false,\"xaxis\":\"x2\",\"y\":[\"TRUCK WHEEL SET\",\"TIRES\",\"RUBBER\",\"CONTROLLER\"],\"yaxis\":\"y2\",\"type\":\"box\"}],                        {\"template\":{\"data\":{\"histogram2dcontour\":[{\"type\":\"histogram2dcontour\",\"colorbar\":{\"outlinewidth\":0,\"ticks\":\"\"},\"colorscale\":[[0.0,\"#0d0887\"],[0.1111111111111111,\"#46039f\"],[0.2222222222222222,\"#7201a8\"],[0.3333333333333333,\"#9c179e\"],[0.4444444444444444,\"#bd3786\"],[0.5555555555555556,\"#d8576b\"],[0.6666666666666666,\"#ed7953\"],[0.7777777777777778,\"#fb9f3a\"],[0.8888888888888888,\"#fdca26\"],[1.0,\"#f0f921\"]]}],\"choropleth\":[{\"type\":\"choropleth\",\"colorbar\":{\"outlinewidth\":0,\"ticks\":\"\"}}],\"histogram2d\":[{\"type\":\"histogram2d\",\"colorbar\":{\"outlinewidth\":0,\"ticks\":\"\"},\"colorscale\":[[0.0,\"#0d0887\"],[0.1111111111111111,\"#46039f\"],[0.2222222222222222,\"#7201a8\"],[0.3333333333333333,\"#9c179e\"],[0.4444444444444444,\"#bd3786\"],[0.5555555555555556,\"#d8576b\"],[0.6666666666666666,\"#ed7953\"],[0.7777777777777778,\"#fb9f3a\"],[0.8888888888888888,\"#fdca26\"],[1.0,\"#f0f921\"]]}],\"heatmap\":[{\"type\":\"heatmap\",\"colorbar\":{\"outlinewidth\":0,\"ticks\":\"\"},\"colorscale\":[[0.0,\"#0d0887\"],[0.1111111111111111,\"#46039f\"],[0.2222222222222222,\"#7201a8\"],[0.3333333333333333,\"#9c179e\"],[0.4444444444444444,\"#bd3786\"],[0.5555555555555556,\"#d8576b\"],[0.6666666666666666,\"#ed7953\"],[0.7777777777777778,\"#fb9f3a\"],[0.8888888888888888,\"#fdca26\"],[1.0,\"#f0f921\"]]}],\"heatmapgl\":[{\"type\":\"heatmapgl\",\"colorbar\":{\"outlinewidth\":0,\"ticks\":\"\"},\"colorscale\":[[0.0,\"#0d0887\"],[0.1111111111111111,\"#46039f\"],[0.2222222222222222,\"#7201a8\"],[0.3333333333333333,\"#9c179e\"],[0.4444444444444444,\"#bd3786\"],[0.5555555555555556,\"#d8576b\"],[0.6666666666666666,\"#ed7953\"],[0.7777777777777778,\"#fb9f3a\"],[0.8888888888888888,\"#fdca26\"],[1.0,\"#f0f921\"]]}],\"contourcarpet\":[{\"type\":\"contourcarpet\",\"colorbar\":{\"outlinewidth\":0,\"ticks\":\"\"}}],\"contour\":[{\"type\":\"contour\",\"colorbar\":{\"outlinewidth\":0,\"ticks\":\"\"},\"colorscale\":[[0.0,\"#0d0887\"],[0.1111111111111111,\"#46039f\"],[0.2222222222222222,\"#7201a8\"],[0.3333333333333333,\"#9c179e\"],[0.4444444444444444,\"#bd3786\"],[0.5555555555555556,\"#d8576b\"],[0.6666666666666666,\"#ed7953\"],[0.7777777777777778,\"#fb9f3a\"],[0.8888888888888888,\"#fdca26\"],[1.0,\"#f0f921\"]]}],\"surface\":[{\"type\":\"surface\",\"colorbar\":{\"outlinewidth\":0,\"ticks\":\"\"},\"colorscale\":[[0.0,\"#0d0887\"],[0.1111111111111111,\"#46039f\"],[0.2222222222222222,\"#7201a8\"],[0.3333333333333333,\"#9c179e\"],[0.4444444444444444,\"#bd3786\"],[0.5555555555555556,\"#d8576b\"],[0.6666666666666666,\"#ed7953\"],[0.7777777777777778,\"#fb9f3a\"],[0.8888888888888888,\"#fdca26\"],[1.0,\"#f0f921\"]]}],\"mesh3d\":[{\"type\":\"mesh3d\",\"colorbar\":{\"outlinewidth\":0,\"ticks\":\"\"}}],\"scatter\":[{\"fillpattern\":{\"fillmode\":\"overlay\",\"size\":10,\"solidity\":0.2},\"type\":\"scatter\"}],\"parcoords\":[{\"type\":\"parcoords\",\"line\":{\"colorbar\":{\"outlinewidth\":0,\"ticks\":\"\"}}}],\"scatterpolargl\":[{\"type\":\"scatterpolargl\",\"marker\":{\"colorbar\":{\"outlinewidth\":0,\"ticks\":\"\"}}}],\"bar\":[{\"error_x\":{\"color\":\"#2a3f5f\"},\"error_y\":{\"color\":\"#2a3f5f\"},\"marker\":{\"line\":{\"color\":\"#E5ECF6\",\"width\":0.5},\"pattern\":{\"fillmode\":\"overlay\",\"size\":10,\"solidity\":0.2}},\"type\":\"bar\"}],\"scattergeo\":[{\"type\":\"scattergeo\",\"marker\":{\"colorbar\":{\"outlinewidth\":0,\"ticks\":\"\"}}}],\"scatterpolar\":[{\"type\":\"scatterpolar\",\"marker\":{\"colorbar\":{\"outlinewidth\":0,\"ticks\":\"\"}}}],\"histogram\":[{\"marker\":{\"pattern\":{\"fillmode\":\"overlay\",\"size\":10,\"solidity\":0.2}},\"type\":\"histogram\"}],\"scattergl\":[{\"type\":\"scattergl\",\"marker\":{\"colorbar\":{\"outlinewidth\":0,\"ticks\":\"\"}}}],\"scatter3d\":[{\"type\":\"scatter3d\",\"line\":{\"colorbar\":{\"outlinewidth\":0,\"ticks\":\"\"}},\"marker\":{\"colorbar\":{\"outlinewidth\":0,\"ticks\":\"\"}}}],\"scattermapbox\":[{\"type\":\"scattermapbox\",\"marker\":{\"colorbar\":{\"outlinewidth\":0,\"ticks\":\"\"}}}],\"scatterternary\":[{\"type\":\"scatterternary\",\"marker\":{\"colorbar\":{\"outlinewidth\":0,\"ticks\":\"\"}}}],\"scattercarpet\":[{\"type\":\"scattercarpet\",\"marker\":{\"colorbar\":{\"outlinewidth\":0,\"ticks\":\"\"}}}],\"carpet\":[{\"aaxis\":{\"endlinecolor\":\"#2a3f5f\",\"gridcolor\":\"white\",\"linecolor\":\"white\",\"minorgridcolor\":\"white\",\"startlinecolor\":\"#2a3f5f\"},\"baxis\":{\"endlinecolor\":\"#2a3f5f\",\"gridcolor\":\"white\",\"linecolor\":\"white\",\"minorgridcolor\":\"white\",\"startlinecolor\":\"#2a3f5f\"},\"type\":\"carpet\"}],\"table\":[{\"cells\":{\"fill\":{\"color\":\"#EBF0F8\"},\"line\":{\"color\":\"white\"}},\"header\":{\"fill\":{\"color\":\"#C8D4E3\"},\"line\":{\"color\":\"white\"}},\"type\":\"table\"}],\"barpolar\":[{\"marker\":{\"line\":{\"color\":\"#E5ECF6\",\"width\":0.5},\"pattern\":{\"fillmode\":\"overlay\",\"size\":10,\"solidity\":0.2}},\"type\":\"barpolar\"}],\"pie\":[{\"automargin\":true,\"type\":\"pie\"}]},\"layout\":{\"autotypenumbers\":\"strict\",\"colorway\":[\"#636efa\",\"#EF553B\",\"#00cc96\",\"#ab63fa\",\"#FFA15A\",\"#19d3f3\",\"#FF6692\",\"#B6E880\",\"#FF97FF\",\"#FECB52\"],\"font\":{\"color\":\"#2a3f5f\"},\"hovermode\":\"closest\",\"hoverlabel\":{\"align\":\"left\"},\"paper_bgcolor\":\"white\",\"plot_bgcolor\":\"#E5ECF6\",\"polar\":{\"bgcolor\":\"#E5ECF6\",\"angularaxis\":{\"gridcolor\":\"white\",\"linecolor\":\"white\",\"ticks\":\"\"},\"radialaxis\":{\"gridcolor\":\"white\",\"linecolor\":\"white\",\"ticks\":\"\"}},\"ternary\":{\"bgcolor\":\"#E5ECF6\",\"aaxis\":{\"gridcolor\":\"white\",\"linecolor\":\"white\",\"ticks\":\"\"},\"baxis\":{\"gridcolor\":\"white\",\"linecolor\":\"white\",\"ticks\":\"\"},\"caxis\":{\"gridcolor\":\"white\",\"linecolor\":\"white\",\"ticks\":\"\"}},\"coloraxis\":{\"colorbar\":{\"outlinewidth\":0,\"ticks\":\"\"}},\"colorscale\":{\"sequential\":[[0.0,\"#0d0887\"],[0.1111111111111111,\"#46039f\"],[0.2222222222222222,\"#7201a8\"],[0.3333333333333333,\"#9c179e\"],[0.4444444444444444,\"#bd3786\"],[0.5555555555555556,\"#d8576b\"],[0.6666666666666666,\"#ed7953\"],[0.7777777777777778,\"#fb9f3a\"],[0.8888888888888888,\"#fdca26\"],[1.0,\"#f0f921\"]],\"sequentialminus\":[[0.0,\"#0d0887\"],[0.1111111111111111,\"#46039f\"],[0.2222222222222222,\"#7201a8\"],[0.3333333333333333,\"#9c179e\"],[0.4444444444444444,\"#bd3786\"],[0.5555555555555556,\"#d8576b\"],[0.6666666666666666,\"#ed7953\"],[0.7777777777777778,\"#fb9f3a\"],[0.8888888888888888,\"#fdca26\"],[1.0,\"#f0f921\"]],\"diverging\":[[0,\"#8e0152\"],[0.1,\"#c51b7d\"],[0.2,\"#de77ae\"],[0.3,\"#f1b6da\"],[0.4,\"#fde0ef\"],[0.5,\"#f7f7f7\"],[0.6,\"#e6f5d0\"],[0.7,\"#b8e186\"],[0.8,\"#7fbc41\"],[0.9,\"#4d9221\"],[1,\"#276419\"]]},\"xaxis\":{\"gridcolor\":\"white\",\"linecolor\":\"white\",\"ticks\":\"\",\"title\":{\"standoff\":15},\"zerolinecolor\":\"white\",\"automargin\":true,\"zerolinewidth\":2},\"yaxis\":{\"gridcolor\":\"white\",\"linecolor\":\"white\",\"ticks\":\"\",\"title\":{\"standoff\":15},\"zerolinecolor\":\"white\",\"automargin\":true,\"zerolinewidth\":2},\"scene\":{\"xaxis\":{\"backgroundcolor\":\"#E5ECF6\",\"gridcolor\":\"white\",\"linecolor\":\"white\",\"showbackground\":true,\"ticks\":\"\",\"zerolinecolor\":\"white\",\"gridwidth\":2},\"yaxis\":{\"backgroundcolor\":\"#E5ECF6\",\"gridcolor\":\"white\",\"linecolor\":\"white\",\"showbackground\":true,\"ticks\":\"\",\"zerolinecolor\":\"white\",\"gridwidth\":2},\"zaxis\":{\"backgroundcolor\":\"#E5ECF6\",\"gridcolor\":\"white\",\"linecolor\":\"white\",\"showbackground\":true,\"ticks\":\"\",\"zerolinecolor\":\"white\",\"gridwidth\":2}},\"shapedefaults\":{\"line\":{\"color\":\"#2a3f5f\"}},\"annotationdefaults\":{\"arrowcolor\":\"#2a3f5f\",\"arrowhead\":0,\"arrowwidth\":1},\"geo\":{\"bgcolor\":\"white\",\"landcolor\":\"#E5ECF6\",\"subunitcolor\":\"white\",\"showland\":true,\"showlakes\":true,\"lakecolor\":\"white\"},\"title\":{\"x\":0.05},\"mapbox\":{\"style\":\"light\"}}},\"xaxis\":{\"anchor\":\"y\",\"domain\":[0.0,0.7363],\"title\":{\"text\":\"sum of Prices\"}},\"yaxis\":{\"anchor\":\"x\",\"domain\":[0.0,1.0],\"title\":{\"text\":\"ProductNames\"}},\"xaxis2\":{\"anchor\":\"y2\",\"domain\":[0.7413,1.0],\"matches\":\"x2\",\"showticklabels\":false,\"showline\":false,\"ticks\":\"\",\"showgrid\":false},\"yaxis2\":{\"anchor\":\"x2\",\"domain\":[0.0,1.0],\"matches\":\"y\",\"showticklabels\":false,\"showgrid\":true},\"legend\":{\"title\":{\"text\":\"IsMaterialAvailable\"},\"tracegroupgap\":0},\"margin\":{\"t\":60},\"barmode\":\"relative\"},                        {\"responsive\": true}                    ).then(function(){\n",
              "                            \n",
              "var gd = document.getElementById('8b3359df-d78d-446f-bfab-b26afd155dec');\n",
              "var x = new MutationObserver(function (mutations, observer) {{\n",
              "        var display = window.getComputedStyle(gd).display;\n",
              "        if (!display || display === 'none') {{\n",
              "            console.log([gd, 'removed!']);\n",
              "            Plotly.purge(gd);\n",
              "            observer.disconnect();\n",
              "        }}\n",
              "}});\n",
              "\n",
              "// Listen for the removal of the full notebook cells\n",
              "var notebookContainer = gd.closest('#notebook-container');\n",
              "if (notebookContainer) {{\n",
              "    x.observe(notebookContainer, {childList: true});\n",
              "}}\n",
              "\n",
              "// Listen for the clearing of the current output cell\n",
              "var outputEl = gd.closest('.output');\n",
              "if (outputEl) {{\n",
              "    x.observe(outputEl, {childList: true});\n",
              "}}\n",
              "\n",
              "                        })                };                            </script>        </div>\n",
              "</body>\n",
              "</html>"
            ]
          },
          "metadata": {}
        }
      ]
    },
    {
      "cell_type": "markdown",
      "source": [
        "**impactAnalysis**\n",
        "This query analyze the effect of site down on other products and sites."
      ],
      "metadata": {
        "id": "7UZs7KDAXsLj"
      }
    },
    {
      "cell_type": "code",
      "source": [
        "#select down site name and max-depth\n",
        "site_drop_down=widgets.Dropdown(\n",
        "    options=site_list,\n",
        "    description='Select a production site name',\n",
        "    disabled=False,\n",
        ")\n",
        "display(site_drop_down)\n",
        "max_depth_drop_down=widgets.Dropdown(\n",
        "    options=max_depth_list,\n",
        "    description='Select the max-depth',\n",
        "    disabled=False,\n",
        ")\n",
        "display(max_depth_drop_down)"
      ],
      "metadata": {
        "colab": {
          "base_uri": "https://localhost:8080/",
          "height": 79,
          "referenced_widgets": [
            "b13480c563e34cc7857ec52010064c43",
            "eb0d0e3fb7594ef99cdb55fa93ccae17",
            "d9f636ff1cd241218e8563aaf22bb51f",
            "79f6ad4f31814bd898515dd8676b8b88",
            "1023f92364ba4f139b23c4c2356d90b7",
            "99c8561384bf49d7a1457775a88c056b"
          ]
        },
        "id": "kKP0rXOmXyQ1",
        "outputId": "a279f66f-236e-490d-fda0-569d5735477e"
      },
      "execution_count": 19,
      "outputs": [
        {
          "output_type": "display_data",
          "data": {
            "text/plain": [
              "Dropdown(description='Select a production site name', options=('site1', 'site2', 'site3', 'site4', 'site5', 's…"
            ],
            "application/vnd.jupyter.widget-view+json": {
              "version_major": 2,
              "version_minor": 0,
              "model_id": "b13480c563e34cc7857ec52010064c43"
            }
          },
          "metadata": {}
        },
        {
          "output_type": "display_data",
          "data": {
            "text/plain": [
              "Dropdown(description='Select the max-depth', options=(2, 4, 5, 8, 10), value=2)"
            ],
            "application/vnd.jupyter.widget-view+json": {
              "version_major": 2,
              "version_minor": 0,
              "model_id": "79f6ad4f31814bd898515dd8676b8b88"
            }
          },
          "metadata": {}
        }
      ]
    },
    {
      "cell_type": "code",
      "source": [
        "#run impactAnalysis query\n",
        "site=site_drop_down.value\n",
        "max_depth=max_depth_drop_down.value\n",
        "params = {\"affectedSites\":site, \"maxDepth\":max_depth} #query's arguments\n",
        "queryName = \"impactAnalysis\"\n",
        "impactAnalysis = conn.runInstalledQuery(queryName, params) \n",
        "print(impactAnalysis)"
      ],
      "metadata": {
        "colab": {
          "base_uri": "https://localhost:8080/"
        },
        "id": "L8Z5iWgHYeU1",
        "outputId": "208108a0-84fe-4046-aaa1-603dffa86704"
      },
      "execution_count": 20,
      "outputs": [
        {
          "output_type": "stream",
          "name": "stdout",
          "text": [
            "[{'@@resultSet': [{'e_type': 'produce', 'from_id': 'site12', 'from_type': 'site', 'to_id': 'CAR WHEEL SET', 'to_type': 'product', 'directed': True, 'attributes': {}}]}]\n"
          ]
        }
      ]
    },
    {
      "cell_type": "code",
      "source": [
        "#processing and analysing the impactAnalysis results\n",
        "impactAnalysis_df = pd.DataFrame(impactAnalysis[0]['@@resultSet'])\n",
        "print(impactAnalysis_df)\n",
        "impactAnalysis_graph = graphistry.edges(impactAnalysis_df, 'from_id', 'to_id')"
      ],
      "metadata": {
        "colab": {
          "base_uri": "https://localhost:8080/"
        },
        "id": "MdxjOUvJaJAS",
        "outputId": "e2f77444-bbee-4f68-92bf-0e80a64fd54b"
      },
      "execution_count": 21,
      "outputs": [
        {
          "output_type": "stream",
          "name": "stdout",
          "text": [
            "    e_type from_id from_type          to_id  to_type  directed attributes\n",
            "0  produce  site12      site  CAR WHEEL SET  product      True         {}\n"
          ]
        }
      ]
    },
    {
      "cell_type": "code",
      "source": [
        "impactAnalysis_graph.plot()"
      ],
      "metadata": {
        "colab": {
          "base_uri": "https://localhost:8080/",
          "height": 560
        },
        "id": "IW4xmNudabO9",
        "outputId": "09bf50e6-0853-4902-a03d-54dddee3fcfa"
      },
      "execution_count": 22,
      "outputs": [
        {
          "output_type": "stream",
          "name": "stderr",
          "text": [
            "Failed memoization speedup attempt due to Pandas internal hash function failing. Continuing without memoization speedups.This is fine, but for speedups around skipping re-uploads of previously seen tables, try identifying which columns have types that Pandas cannot hash, and convert them to hashable types like strings.\n"
          ]
        },
        {
          "output_type": "execute_result",
          "data": {
            "text/plain": [
              "<IPython.core.display.HTML object>"
            ],
            "text/html": [
              "\n",
              "            <iframe id=\"dee2aa7b-02bd-481e-9042-8bc72f286109\" src=\"https://hub.graphistry.com/graph/graph.html?dataset=2ef065970ec34c608352a09ba7bbd757&type=arrow&viztoken=b8d4325f-ef50-474f-a04f-7f7c912e8916&usertag=05d519e7-pygraphistry-0.23.2&splashAfter=1650510114&info=true\"\n",
              "                    allowfullscreen=\"true\" webkitallowfullscreen=\"true\" mozallowfullscreen=\"true\"\n",
              "                    oallowfullscreen=\"true\" msallowfullscreen=\"true\"\n",
              "                    style=\"width:100%; height:500px; border: 1px solid #DDD; overflow: hidden\"\n",
              "                    \n",
              "            >\n",
              "            </iframe>\n",
              "        \n",
              "            <script>\n",
              "                try {\n",
              "                  $(\"#dee2aa7b-02bd-481e-9042-8bc72f286109\").bind('mousewheel', function(e) { e.preventDefault(); });\n",
              "                } catch (e) { console.error('exn catching scroll', e); }\n",
              "            </script>\n",
              "        "
            ]
          },
          "metadata": {},
          "execution_count": 22
        }
      ]
    },
    {
      "cell_type": "markdown",
      "source": [
        "**pricePrediction**\n",
        "This query analyses if the price of one or more product changes, how will it effect the prices of other products. It is a iterative query."
      ],
      "metadata": {
        "id": "Bm7yUdHHa1Zb"
      }
    },
    {
      "cell_type": "code",
      "source": [
        "#select material name, change in material prices\n",
        "material_drop_down=widgets.Dropdown(\n",
        "    options=material_list,\n",
        "    description='Select a material name',\n",
        "    disabled=False,\n",
        ")\n",
        "display(material_drop_down)\n",
        "price_increment_drop_down=widgets.Dropdown(\n",
        "    options=price_increment_list,\n",
        "    description='Select the change in material prices ',\n",
        "    disabled=False,\n",
        ")\n",
        "display(price_increment_drop_down)"
      ],
      "metadata": {
        "colab": {
          "base_uri": "https://localhost:8080/",
          "height": 79,
          "referenced_widgets": [
            "5fa57518fc6d49bdac289d32661bf686",
            "23296a7d5f204641bf9caffe26ef5797",
            "89be2bd9f84548c1a18d50a88ce01ecf",
            "699f2686228149f79d3af43bc516dcc1",
            "826f8af674394f5baa7fc120b403241f",
            "1bbe3fab20604e0dadbac88bc93245b1"
          ]
        },
        "id": "AYlbqpbva5Eu",
        "outputId": "318989b0-e2e6-47a9-9dcb-2a278bd17733"
      },
      "execution_count": 23,
      "outputs": [
        {
          "output_type": "display_data",
          "data": {
            "text/plain": [
              "Dropdown(description='Select a material name', options=('RUBBER', 'TIRES', 'STEEL RODS', 'ALUMINUM RODS', 'SEN…"
            ],
            "application/vnd.jupyter.widget-view+json": {
              "version_major": 2,
              "version_minor": 0,
              "model_id": "5fa57518fc6d49bdac289d32661bf686"
            }
          },
          "metadata": {}
        },
        {
          "output_type": "display_data",
          "data": {
            "text/plain": [
              "Dropdown(description='Select the change in material prices ', options=(0.2, 0.4, 0.6, 0.8, 1), value=0.2)"
            ],
            "application/vnd.jupyter.widget-view+json": {
              "version_major": 2,
              "version_minor": 0,
              "model_id": "699f2686228149f79d3af43bc516dcc1"
            }
          },
          "metadata": {}
        }
      ]
    },
    {
      "cell_type": "code",
      "source": [
        "#run pricePrediction query\n",
        "material=material_drop_down.value\n",
        "increment=price_increment_drop_down.value\n",
        "inp=material+','+str(increment)\n",
        "params = {\"input\":inp, \"maxIteration\":2,\"doUpdate\":False} #query's arguments\n",
        "queryName = \"pricePrediction\"\n",
        "pricePrediction = conn.runInstalledQuery(queryName, params) \n",
        "print(pricePrediction)"
      ],
      "metadata": {
        "colab": {
          "base_uri": "https://localhost:8080/"
        },
        "id": "8EaN-7joda8W",
        "outputId": "147982d6-9132-4f6e-e645-c4e0bbf6e2fa"
      },
      "execution_count": 24,
      "outputs": [
        {
          "output_type": "stream",
          "name": "stdout",
          "text": [
            "[{'@@depth': 1}, {'@@depth': 2}, {'@@displaySet': [{'e_type': 'reverseUsedBy', 'from_id': 'TRUCK RIMS', 'from_type': 'product', 'to_id': 'ABS MODULE', 'to_type': 'product', 'directed': True, 'attributes': {'formula_order': '3', 'useAmount': 1}}, {'e_type': 'reverseUsedBy', 'from_id': 'TRUCK RIMS', 'from_type': 'product', 'to_id': 'STEEL RODS', 'to_type': 'product', 'directed': True, 'attributes': {'formula_order': '1', 'useAmount': 8000}}, {'e_type': 'reverseUsedBy', 'from_id': 'TRUCK RIMS', 'from_type': 'product', 'to_id': 'TPM ASSEMBLY', 'to_type': 'product', 'directed': True, 'attributes': {'formula_order': '2', 'useAmount': 1}}, {'e_type': 'reverseUsedBy', 'from_id': 'TPM ASSEMBLY', 'from_type': 'product', 'to_id': 'CONTROLLER', 'to_type': 'product', 'directed': True, 'attributes': {'formula_order': '2', 'useAmount': 1}}, {'e_type': 'reverseUsedBy', 'from_id': 'TPM ASSEMBLY', 'from_type': 'product', 'to_id': 'VALVE STEM', 'to_type': 'product', 'directed': True, 'attributes': {'formula_order': '3', 'useAmount': 1}}, {'e_type': 'reverseUsedBy', 'from_id': 'TPM ASSEMBLY', 'from_type': 'product', 'to_id': 'SENSOR', 'to_type': 'product', 'directed': True, 'attributes': {'formula_order': '1', 'useAmount': 1}}]}, {'final': [{'v_id': 'CONTROLLER', 'v_type': 'product', 'attributes': {'name': 'CONTROLLER', 'price': 32, 'formula': '', '@visited_1': False, '@maxDepth': 0, '@isStart': False, '@new_price': 0, '@visited': False, '@mapping': {}, '@amountMap': {}}}, {'v_id': 'ABS MODULE', 'v_type': 'product', 'attributes': {'name': 'ABS MODULE', 'price': 32, 'formula': '($1)*0.82', '@visited_1': False, '@maxDepth': 0, '@isStart': False, '@new_price': 0, '@visited': False, '@mapping': {}, '@amountMap': {}}}, {'v_id': 'VALVE STEM', 'v_type': 'product', 'attributes': {'name': 'VALVE STEM', 'price': 30, 'formula': '', '@visited_1': False, '@maxDepth': 0, '@isStart': False, '@new_price': 0, '@visited': False, '@mapping': {}, '@amountMap': {}}}, {'v_id': 'TPM ASSEMBLY', 'v_type': 'product', 'attributes': {'name': 'TPM ASSEMBLY', 'price': 99, 'formula': '($1+$2+$3)*0.8', '@visited_1': True, '@maxDepth': 0, '@isStart': False, '@new_price': 49.92, '@visited': True, '@mapping': {'2': 32, '3': 30, '1': 0.4}, '@amountMap': {'2': 1, '3': 1, '1': 1}}}, {'v_id': 'SENSOR', 'v_type': 'product', 'attributes': {'name': 'SENSOR', 'price': 0.2, 'formula': '', '@visited_1': True, '@maxDepth': 0, '@isStart': True, '@new_price': 0.4, '@visited': True, '@mapping': {}, '@amountMap': {}}}, {'v_id': 'STEEL RODS', 'v_type': 'product', 'attributes': {'name': 'STEEL RODS', 'price': 0.2, 'formula': '', '@visited_1': False, '@maxDepth': 0, '@isStart': False, '@new_price': 0, '@visited': False, '@mapping': {}, '@amountMap': {}}}]}]\n"
          ]
        }
      ]
    },
    {
      "cell_type": "code",
      "source": [
        "#processing and analysing the pricePrediction results\n",
        "pricePrediction_df = pd.DataFrame(pricePrediction[2]['@@displaySet'])\n",
        "print(pricePrediction_df )\n",
        "pricePrediction_graph=graphistry.edges(pricePrediction_df , 'from_id', 'to_id')"
      ],
      "metadata": {
        "colab": {
          "base_uri": "https://localhost:8080/"
        },
        "id": "ddQ2DIh3eZAd",
        "outputId": "ef8fb3b7-ad38-492d-b410-b072d66aa40f"
      },
      "execution_count": 25,
      "outputs": [
        {
          "output_type": "stream",
          "name": "stdout",
          "text": [
            "          e_type       from_id from_type         to_id  to_type  directed  \\\n",
            "0  reverseUsedBy    TRUCK RIMS   product    ABS MODULE  product      True   \n",
            "1  reverseUsedBy    TRUCK RIMS   product    STEEL RODS  product      True   \n",
            "2  reverseUsedBy    TRUCK RIMS   product  TPM ASSEMBLY  product      True   \n",
            "3  reverseUsedBy  TPM ASSEMBLY   product    CONTROLLER  product      True   \n",
            "4  reverseUsedBy  TPM ASSEMBLY   product    VALVE STEM  product      True   \n",
            "5  reverseUsedBy  TPM ASSEMBLY   product        SENSOR  product      True   \n",
            "\n",
            "                                  attributes  \n",
            "0     {'formula_order': '3', 'useAmount': 1}  \n",
            "1  {'formula_order': '1', 'useAmount': 8000}  \n",
            "2     {'formula_order': '2', 'useAmount': 1}  \n",
            "3     {'formula_order': '2', 'useAmount': 1}  \n",
            "4     {'formula_order': '3', 'useAmount': 1}  \n",
            "5     {'formula_order': '1', 'useAmount': 1}  \n"
          ]
        }
      ]
    },
    {
      "cell_type": "code",
      "source": [
        "pricePrediction_graph.plot()"
      ],
      "metadata": {
        "colab": {
          "base_uri": "https://localhost:8080/",
          "height": 560
        },
        "id": "PIJbnBMhemt1",
        "outputId": "48e9019f-802d-4a7a-90d5-a3cf3ac77783"
      },
      "execution_count": 26,
      "outputs": [
        {
          "output_type": "stream",
          "name": "stderr",
          "text": [
            "Failed memoization speedup attempt due to Pandas internal hash function failing. Continuing without memoization speedups.This is fine, but for speedups around skipping re-uploads of previously seen tables, try identifying which columns have types that Pandas cannot hash, and convert them to hashable types like strings.\n"
          ]
        },
        {
          "output_type": "execute_result",
          "data": {
            "text/plain": [
              "<IPython.core.display.HTML object>"
            ],
            "text/html": [
              "\n",
              "            <iframe id=\"ad1e5ef5-9626-4a52-94e9-548f62d59fd9\" src=\"https://hub.graphistry.com/graph/graph.html?dataset=7507b72f43cb46fda36dea2955e1dc66&type=arrow&viztoken=5fd645b6-5a3b-418f-b10a-0eafe17aaf38&usertag=05d519e7-pygraphistry-0.23.2&splashAfter=1650510159&info=true\"\n",
              "                    allowfullscreen=\"true\" webkitallowfullscreen=\"true\" mozallowfullscreen=\"true\"\n",
              "                    oallowfullscreen=\"true\" msallowfullscreen=\"true\"\n",
              "                    style=\"width:100%; height:500px; border: 1px solid #DDD; overflow: hidden\"\n",
              "                    \n",
              "            >\n",
              "            </iframe>\n",
              "        \n",
              "            <script>\n",
              "                try {\n",
              "                  $(\"#ad1e5ef5-9626-4a52-94e9-548f62d59fd9\").bind('mousewheel', function(e) { e.preventDefault(); });\n",
              "                } catch (e) { console.error('exn catching scroll', e); }\n",
              "            </script>\n",
              "        "
            ]
          },
          "metadata": {},
          "execution_count": 26
        }
      ]
    },
    {
      "cell_type": "code",
      "source": [
        "pricePrediction_data = pd.DataFrame(pricePrediction[3]['final'])\n",
        "pricePrediction_data=pricePrediction_data['attributes']\n",
        "print(pricePrediction_data)"
      ],
      "metadata": {
        "colab": {
          "base_uri": "https://localhost:8080/"
        },
        "id": "97Dzo_Ace6ws",
        "outputId": "c0b9584e-54ad-4b2c-d6d2-186ceb69c507"
      },
      "execution_count": 27,
      "outputs": [
        {
          "output_type": "stream",
          "name": "stdout",
          "text": [
            "0    {'name': 'CONTROLLER', 'price': 32, 'formula':...\n",
            "1    {'name': 'ABS MODULE', 'price': 32, 'formula':...\n",
            "2    {'name': 'VALVE STEM', 'price': 30, 'formula':...\n",
            "3    {'name': 'TPM ASSEMBLY', 'price': 99, 'formula...\n",
            "4    {'name': 'SENSOR', 'price': 0.2, 'formula': ''...\n",
            "5    {'name': 'STEEL RODS', 'price': 0.2, 'formula'...\n",
            "Name: attributes, dtype: object\n"
          ]
        }
      ]
    },
    {
      "cell_type": "code",
      "source": [
        "Names=[]\n",
        "Old_Prices=[]\n",
        "New_Prices=[]\n",
        "for i in range(len(pricePrediction_data)) :\n",
        "  print(pricePrediction_data.loc[i]['name'])\n",
        "  print(pricePrediction_data.loc[i]['price'])\n",
        "  print(pricePrediction_data.loc[i]['@new_price'])\n",
        "  Names.append(pricePrediction_data.loc[i]['name'])\n",
        "  Old_Prices.append(pricePrediction_data.loc[i]['price'])\n",
        "  New_Prices.append(pricePrediction_data.loc[i]['@new_price'])"
      ],
      "metadata": {
        "colab": {
          "base_uri": "https://localhost:8080/"
        },
        "id": "XzWCIsmWfT9e",
        "outputId": "170f9d60-7bd3-4a6c-ca57-35dc860b2b6b"
      },
      "execution_count": 28,
      "outputs": [
        {
          "output_type": "stream",
          "name": "stdout",
          "text": [
            "CONTROLLER\n",
            "32\n",
            "0\n",
            "ABS MODULE\n",
            "32\n",
            "0\n",
            "VALVE STEM\n",
            "30\n",
            "0\n",
            "TPM ASSEMBLY\n",
            "99\n",
            "49.92\n",
            "SENSOR\n",
            "0.2\n",
            "0.4\n",
            "STEEL RODS\n",
            "0.2\n",
            "0\n"
          ]
        }
      ]
    },
    {
      "cell_type": "code",
      "source": [
        "processed_pricePrediction_data= pd.DataFrame(list(zip(Names,Old_Prices,New_Prices)),\n",
        "               columns =['Names', 'Old_Prices','New_Prices'])\n",
        "print(processed_pricePrediction_data)"
      ],
      "metadata": {
        "colab": {
          "base_uri": "https://localhost:8080/"
        },
        "id": "ZPDtgzPOfhaR",
        "outputId": "20f1f56f-27f6-4a60-a0d0-7afa68c5f0b8"
      },
      "execution_count": 29,
      "outputs": [
        {
          "output_type": "stream",
          "name": "stdout",
          "text": [
            "          Names  Old_Prices  New_Prices\n",
            "0    CONTROLLER        32.0        0.00\n",
            "1    ABS MODULE        32.0        0.00\n",
            "2    VALVE STEM        30.0        0.00\n",
            "3  TPM ASSEMBLY        99.0       49.92\n",
            "4        SENSOR         0.2        0.40\n",
            "5    STEEL RODS         0.2        0.00\n"
          ]
        }
      ]
    },
    {
      "cell_type": "code",
      "source": [
        "#shows the comparative analysis of product new price and old price\n",
        "fig = px.scatter_3d(processed_pricePrediction_data, x=\"Names\", y=\"Old_Prices\", z=\"New_Prices\",color=\"Names\")\n",
        "fig.show()"
      ],
      "metadata": {
        "colab": {
          "base_uri": "https://localhost:8080/",
          "height": 542
        },
        "id": "0NkN87Q4ft4o",
        "outputId": "e5ac2be0-105d-464c-f1fe-936b4d74881f"
      },
      "execution_count": 30,
      "outputs": [
        {
          "output_type": "display_data",
          "data": {
            "text/html": [
              "<html>\n",
              "<head><meta charset=\"utf-8\" /></head>\n",
              "<body>\n",
              "    <div>            <script src=\"https://cdnjs.cloudflare.com/ajax/libs/mathjax/2.7.5/MathJax.js?config=TeX-AMS-MML_SVG\"></script><script type=\"text/javascript\">if (window.MathJax) {MathJax.Hub.Config({SVG: {font: \"STIX-Web\"}});}</script>                <script type=\"text/javascript\">window.PlotlyConfig = {MathJaxConfig: 'local'};</script>\n",
              "        <script src=\"https://cdn.plot.ly/plotly-2.11.1.min.js\"></script>                <div id=\"7d022dc8-f31e-4b18-9a76-84d6e8759f44\" class=\"plotly-graph-div\" style=\"height:525px; width:100%;\"></div>            <script type=\"text/javascript\">                                    window.PLOTLYENV=window.PLOTLYENV || {};                                    if (document.getElementById(\"7d022dc8-f31e-4b18-9a76-84d6e8759f44\")) {                    Plotly.newPlot(                        \"7d022dc8-f31e-4b18-9a76-84d6e8759f44\",                        [{\"hovertemplate\":\"Names=%{x}<br>Old_Prices=%{y}<br>New_Prices=%{z}<extra></extra>\",\"legendgroup\":\"CONTROLLER\",\"marker\":{\"color\":\"#636efa\",\"symbol\":\"circle\"},\"mode\":\"markers\",\"name\":\"CONTROLLER\",\"scene\":\"scene\",\"showlegend\":true,\"x\":[\"CONTROLLER\"],\"y\":[32.0],\"z\":[0.0],\"type\":\"scatter3d\"},{\"hovertemplate\":\"Names=%{x}<br>Old_Prices=%{y}<br>New_Prices=%{z}<extra></extra>\",\"legendgroup\":\"ABS MODULE\",\"marker\":{\"color\":\"#EF553B\",\"symbol\":\"circle\"},\"mode\":\"markers\",\"name\":\"ABS MODULE\",\"scene\":\"scene\",\"showlegend\":true,\"x\":[\"ABS MODULE\"],\"y\":[32.0],\"z\":[0.0],\"type\":\"scatter3d\"},{\"hovertemplate\":\"Names=%{x}<br>Old_Prices=%{y}<br>New_Prices=%{z}<extra></extra>\",\"legendgroup\":\"VALVE STEM\",\"marker\":{\"color\":\"#00cc96\",\"symbol\":\"circle\"},\"mode\":\"markers\",\"name\":\"VALVE STEM\",\"scene\":\"scene\",\"showlegend\":true,\"x\":[\"VALVE STEM\"],\"y\":[30.0],\"z\":[0.0],\"type\":\"scatter3d\"},{\"hovertemplate\":\"Names=%{x}<br>Old_Prices=%{y}<br>New_Prices=%{z}<extra></extra>\",\"legendgroup\":\"TPM ASSEMBLY\",\"marker\":{\"color\":\"#ab63fa\",\"symbol\":\"circle\"},\"mode\":\"markers\",\"name\":\"TPM ASSEMBLY\",\"scene\":\"scene\",\"showlegend\":true,\"x\":[\"TPM ASSEMBLY\"],\"y\":[99.0],\"z\":[49.92],\"type\":\"scatter3d\"},{\"hovertemplate\":\"Names=%{x}<br>Old_Prices=%{y}<br>New_Prices=%{z}<extra></extra>\",\"legendgroup\":\"SENSOR\",\"marker\":{\"color\":\"#FFA15A\",\"symbol\":\"circle\"},\"mode\":\"markers\",\"name\":\"SENSOR\",\"scene\":\"scene\",\"showlegend\":true,\"x\":[\"SENSOR\"],\"y\":[0.2],\"z\":[0.4],\"type\":\"scatter3d\"},{\"hovertemplate\":\"Names=%{x}<br>Old_Prices=%{y}<br>New_Prices=%{z}<extra></extra>\",\"legendgroup\":\"STEEL RODS\",\"marker\":{\"color\":\"#19d3f3\",\"symbol\":\"circle\"},\"mode\":\"markers\",\"name\":\"STEEL RODS\",\"scene\":\"scene\",\"showlegend\":true,\"x\":[\"STEEL RODS\"],\"y\":[0.2],\"z\":[0.0],\"type\":\"scatter3d\"}],                        {\"template\":{\"data\":{\"histogram2dcontour\":[{\"type\":\"histogram2dcontour\",\"colorbar\":{\"outlinewidth\":0,\"ticks\":\"\"},\"colorscale\":[[0.0,\"#0d0887\"],[0.1111111111111111,\"#46039f\"],[0.2222222222222222,\"#7201a8\"],[0.3333333333333333,\"#9c179e\"],[0.4444444444444444,\"#bd3786\"],[0.5555555555555556,\"#d8576b\"],[0.6666666666666666,\"#ed7953\"],[0.7777777777777778,\"#fb9f3a\"],[0.8888888888888888,\"#fdca26\"],[1.0,\"#f0f921\"]]}],\"choropleth\":[{\"type\":\"choropleth\",\"colorbar\":{\"outlinewidth\":0,\"ticks\":\"\"}}],\"histogram2d\":[{\"type\":\"histogram2d\",\"colorbar\":{\"outlinewidth\":0,\"ticks\":\"\"},\"colorscale\":[[0.0,\"#0d0887\"],[0.1111111111111111,\"#46039f\"],[0.2222222222222222,\"#7201a8\"],[0.3333333333333333,\"#9c179e\"],[0.4444444444444444,\"#bd3786\"],[0.5555555555555556,\"#d8576b\"],[0.6666666666666666,\"#ed7953\"],[0.7777777777777778,\"#fb9f3a\"],[0.8888888888888888,\"#fdca26\"],[1.0,\"#f0f921\"]]}],\"heatmap\":[{\"type\":\"heatmap\",\"colorbar\":{\"outlinewidth\":0,\"ticks\":\"\"},\"colorscale\":[[0.0,\"#0d0887\"],[0.1111111111111111,\"#46039f\"],[0.2222222222222222,\"#7201a8\"],[0.3333333333333333,\"#9c179e\"],[0.4444444444444444,\"#bd3786\"],[0.5555555555555556,\"#d8576b\"],[0.6666666666666666,\"#ed7953\"],[0.7777777777777778,\"#fb9f3a\"],[0.8888888888888888,\"#fdca26\"],[1.0,\"#f0f921\"]]}],\"heatmapgl\":[{\"type\":\"heatmapgl\",\"colorbar\":{\"outlinewidth\":0,\"ticks\":\"\"},\"colorscale\":[[0.0,\"#0d0887\"],[0.1111111111111111,\"#46039f\"],[0.2222222222222222,\"#7201a8\"],[0.3333333333333333,\"#9c179e\"],[0.4444444444444444,\"#bd3786\"],[0.5555555555555556,\"#d8576b\"],[0.6666666666666666,\"#ed7953\"],[0.7777777777777778,\"#fb9f3a\"],[0.8888888888888888,\"#fdca26\"],[1.0,\"#f0f921\"]]}],\"contourcarpet\":[{\"type\":\"contourcarpet\",\"colorbar\":{\"outlinewidth\":0,\"ticks\":\"\"}}],\"contour\":[{\"type\":\"contour\",\"colorbar\":{\"outlinewidth\":0,\"ticks\":\"\"},\"colorscale\":[[0.0,\"#0d0887\"],[0.1111111111111111,\"#46039f\"],[0.2222222222222222,\"#7201a8\"],[0.3333333333333333,\"#9c179e\"],[0.4444444444444444,\"#bd3786\"],[0.5555555555555556,\"#d8576b\"],[0.6666666666666666,\"#ed7953\"],[0.7777777777777778,\"#fb9f3a\"],[0.8888888888888888,\"#fdca26\"],[1.0,\"#f0f921\"]]}],\"surface\":[{\"type\":\"surface\",\"colorbar\":{\"outlinewidth\":0,\"ticks\":\"\"},\"colorscale\":[[0.0,\"#0d0887\"],[0.1111111111111111,\"#46039f\"],[0.2222222222222222,\"#7201a8\"],[0.3333333333333333,\"#9c179e\"],[0.4444444444444444,\"#bd3786\"],[0.5555555555555556,\"#d8576b\"],[0.6666666666666666,\"#ed7953\"],[0.7777777777777778,\"#fb9f3a\"],[0.8888888888888888,\"#fdca26\"],[1.0,\"#f0f921\"]]}],\"mesh3d\":[{\"type\":\"mesh3d\",\"colorbar\":{\"outlinewidth\":0,\"ticks\":\"\"}}],\"scatter\":[{\"fillpattern\":{\"fillmode\":\"overlay\",\"size\":10,\"solidity\":0.2},\"type\":\"scatter\"}],\"parcoords\":[{\"type\":\"parcoords\",\"line\":{\"colorbar\":{\"outlinewidth\":0,\"ticks\":\"\"}}}],\"scatterpolargl\":[{\"type\":\"scatterpolargl\",\"marker\":{\"colorbar\":{\"outlinewidth\":0,\"ticks\":\"\"}}}],\"bar\":[{\"error_x\":{\"color\":\"#2a3f5f\"},\"error_y\":{\"color\":\"#2a3f5f\"},\"marker\":{\"line\":{\"color\":\"#E5ECF6\",\"width\":0.5},\"pattern\":{\"fillmode\":\"overlay\",\"size\":10,\"solidity\":0.2}},\"type\":\"bar\"}],\"scattergeo\":[{\"type\":\"scattergeo\",\"marker\":{\"colorbar\":{\"outlinewidth\":0,\"ticks\":\"\"}}}],\"scatterpolar\":[{\"type\":\"scatterpolar\",\"marker\":{\"colorbar\":{\"outlinewidth\":0,\"ticks\":\"\"}}}],\"histogram\":[{\"marker\":{\"pattern\":{\"fillmode\":\"overlay\",\"size\":10,\"solidity\":0.2}},\"type\":\"histogram\"}],\"scattergl\":[{\"type\":\"scattergl\",\"marker\":{\"colorbar\":{\"outlinewidth\":0,\"ticks\":\"\"}}}],\"scatter3d\":[{\"type\":\"scatter3d\",\"line\":{\"colorbar\":{\"outlinewidth\":0,\"ticks\":\"\"}},\"marker\":{\"colorbar\":{\"outlinewidth\":0,\"ticks\":\"\"}}}],\"scattermapbox\":[{\"type\":\"scattermapbox\",\"marker\":{\"colorbar\":{\"outlinewidth\":0,\"ticks\":\"\"}}}],\"scatterternary\":[{\"type\":\"scatterternary\",\"marker\":{\"colorbar\":{\"outlinewidth\":0,\"ticks\":\"\"}}}],\"scattercarpet\":[{\"type\":\"scattercarpet\",\"marker\":{\"colorbar\":{\"outlinewidth\":0,\"ticks\":\"\"}}}],\"carpet\":[{\"aaxis\":{\"endlinecolor\":\"#2a3f5f\",\"gridcolor\":\"white\",\"linecolor\":\"white\",\"minorgridcolor\":\"white\",\"startlinecolor\":\"#2a3f5f\"},\"baxis\":{\"endlinecolor\":\"#2a3f5f\",\"gridcolor\":\"white\",\"linecolor\":\"white\",\"minorgridcolor\":\"white\",\"startlinecolor\":\"#2a3f5f\"},\"type\":\"carpet\"}],\"table\":[{\"cells\":{\"fill\":{\"color\":\"#EBF0F8\"},\"line\":{\"color\":\"white\"}},\"header\":{\"fill\":{\"color\":\"#C8D4E3\"},\"line\":{\"color\":\"white\"}},\"type\":\"table\"}],\"barpolar\":[{\"marker\":{\"line\":{\"color\":\"#E5ECF6\",\"width\":0.5},\"pattern\":{\"fillmode\":\"overlay\",\"size\":10,\"solidity\":0.2}},\"type\":\"barpolar\"}],\"pie\":[{\"automargin\":true,\"type\":\"pie\"}]},\"layout\":{\"autotypenumbers\":\"strict\",\"colorway\":[\"#636efa\",\"#EF553B\",\"#00cc96\",\"#ab63fa\",\"#FFA15A\",\"#19d3f3\",\"#FF6692\",\"#B6E880\",\"#FF97FF\",\"#FECB52\"],\"font\":{\"color\":\"#2a3f5f\"},\"hovermode\":\"closest\",\"hoverlabel\":{\"align\":\"left\"},\"paper_bgcolor\":\"white\",\"plot_bgcolor\":\"#E5ECF6\",\"polar\":{\"bgcolor\":\"#E5ECF6\",\"angularaxis\":{\"gridcolor\":\"white\",\"linecolor\":\"white\",\"ticks\":\"\"},\"radialaxis\":{\"gridcolor\":\"white\",\"linecolor\":\"white\",\"ticks\":\"\"}},\"ternary\":{\"bgcolor\":\"#E5ECF6\",\"aaxis\":{\"gridcolor\":\"white\",\"linecolor\":\"white\",\"ticks\":\"\"},\"baxis\":{\"gridcolor\":\"white\",\"linecolor\":\"white\",\"ticks\":\"\"},\"caxis\":{\"gridcolor\":\"white\",\"linecolor\":\"white\",\"ticks\":\"\"}},\"coloraxis\":{\"colorbar\":{\"outlinewidth\":0,\"ticks\":\"\"}},\"colorscale\":{\"sequential\":[[0.0,\"#0d0887\"],[0.1111111111111111,\"#46039f\"],[0.2222222222222222,\"#7201a8\"],[0.3333333333333333,\"#9c179e\"],[0.4444444444444444,\"#bd3786\"],[0.5555555555555556,\"#d8576b\"],[0.6666666666666666,\"#ed7953\"],[0.7777777777777778,\"#fb9f3a\"],[0.8888888888888888,\"#fdca26\"],[1.0,\"#f0f921\"]],\"sequentialminus\":[[0.0,\"#0d0887\"],[0.1111111111111111,\"#46039f\"],[0.2222222222222222,\"#7201a8\"],[0.3333333333333333,\"#9c179e\"],[0.4444444444444444,\"#bd3786\"],[0.5555555555555556,\"#d8576b\"],[0.6666666666666666,\"#ed7953\"],[0.7777777777777778,\"#fb9f3a\"],[0.8888888888888888,\"#fdca26\"],[1.0,\"#f0f921\"]],\"diverging\":[[0,\"#8e0152\"],[0.1,\"#c51b7d\"],[0.2,\"#de77ae\"],[0.3,\"#f1b6da\"],[0.4,\"#fde0ef\"],[0.5,\"#f7f7f7\"],[0.6,\"#e6f5d0\"],[0.7,\"#b8e186\"],[0.8,\"#7fbc41\"],[0.9,\"#4d9221\"],[1,\"#276419\"]]},\"xaxis\":{\"gridcolor\":\"white\",\"linecolor\":\"white\",\"ticks\":\"\",\"title\":{\"standoff\":15},\"zerolinecolor\":\"white\",\"automargin\":true,\"zerolinewidth\":2},\"yaxis\":{\"gridcolor\":\"white\",\"linecolor\":\"white\",\"ticks\":\"\",\"title\":{\"standoff\":15},\"zerolinecolor\":\"white\",\"automargin\":true,\"zerolinewidth\":2},\"scene\":{\"xaxis\":{\"backgroundcolor\":\"#E5ECF6\",\"gridcolor\":\"white\",\"linecolor\":\"white\",\"showbackground\":true,\"ticks\":\"\",\"zerolinecolor\":\"white\",\"gridwidth\":2},\"yaxis\":{\"backgroundcolor\":\"#E5ECF6\",\"gridcolor\":\"white\",\"linecolor\":\"white\",\"showbackground\":true,\"ticks\":\"\",\"zerolinecolor\":\"white\",\"gridwidth\":2},\"zaxis\":{\"backgroundcolor\":\"#E5ECF6\",\"gridcolor\":\"white\",\"linecolor\":\"white\",\"showbackground\":true,\"ticks\":\"\",\"zerolinecolor\":\"white\",\"gridwidth\":2}},\"shapedefaults\":{\"line\":{\"color\":\"#2a3f5f\"}},\"annotationdefaults\":{\"arrowcolor\":\"#2a3f5f\",\"arrowhead\":0,\"arrowwidth\":1},\"geo\":{\"bgcolor\":\"white\",\"landcolor\":\"#E5ECF6\",\"subunitcolor\":\"white\",\"showland\":true,\"showlakes\":true,\"lakecolor\":\"white\"},\"title\":{\"x\":0.05},\"mapbox\":{\"style\":\"light\"}}},\"scene\":{\"domain\":{\"x\":[0.0,1.0],\"y\":[0.0,1.0]},\"xaxis\":{\"title\":{\"text\":\"Names\"},\"categoryorder\":\"array\",\"categoryarray\":[\"CONTROLLER\",\"ABS MODULE\",\"VALVE STEM\",\"TPM ASSEMBLY\",\"SENSOR\",\"STEEL RODS\"]},\"yaxis\":{\"title\":{\"text\":\"Old_Prices\"}},\"zaxis\":{\"title\":{\"text\":\"New_Prices\"}}},\"legend\":{\"title\":{\"text\":\"Names\"},\"tracegroupgap\":0},\"margin\":{\"t\":60}},                        {\"responsive\": true}                    ).then(function(){\n",
              "                            \n",
              "var gd = document.getElementById('7d022dc8-f31e-4b18-9a76-84d6e8759f44');\n",
              "var x = new MutationObserver(function (mutations, observer) {{\n",
              "        var display = window.getComputedStyle(gd).display;\n",
              "        if (!display || display === 'none') {{\n",
              "            console.log([gd, 'removed!']);\n",
              "            Plotly.purge(gd);\n",
              "            observer.disconnect();\n",
              "        }}\n",
              "}});\n",
              "\n",
              "// Listen for the removal of the full notebook cells\n",
              "var notebookContainer = gd.closest('#notebook-container');\n",
              "if (notebookContainer) {{\n",
              "    x.observe(notebookContainer, {childList: true});\n",
              "}}\n",
              "\n",
              "// Listen for the clearing of the current output cell\n",
              "var outputEl = gd.closest('.output');\n",
              "if (outputEl) {{\n",
              "    x.observe(outputEl, {childList: true});\n",
              "}}\n",
              "\n",
              "                        })                };                            </script>        </div>\n",
              "</body>\n",
              "</html>"
            ]
          },
          "metadata": {}
        }
      ]
    },
    {
      "cell_type": "code",
      "source": [
        "#shows the old prices of products\n",
        "fig = px.bar(processed_pricePrediction_data, x=\"Names\", y=\"Old_Prices\")\n",
        "fig.show()"
      ],
      "metadata": {
        "colab": {
          "base_uri": "https://localhost:8080/",
          "height": 542
        },
        "id": "EKF66DnYf17m",
        "outputId": "17dd4d22-ef39-4a52-ee6d-f281342edfcc"
      },
      "execution_count": 31,
      "outputs": [
        {
          "output_type": "display_data",
          "data": {
            "text/html": [
              "<html>\n",
              "<head><meta charset=\"utf-8\" /></head>\n",
              "<body>\n",
              "    <div>            <script src=\"https://cdnjs.cloudflare.com/ajax/libs/mathjax/2.7.5/MathJax.js?config=TeX-AMS-MML_SVG\"></script><script type=\"text/javascript\">if (window.MathJax) {MathJax.Hub.Config({SVG: {font: \"STIX-Web\"}});}</script>                <script type=\"text/javascript\">window.PlotlyConfig = {MathJaxConfig: 'local'};</script>\n",
              "        <script src=\"https://cdn.plot.ly/plotly-2.11.1.min.js\"></script>                <div id=\"e0da0134-c921-4601-88f9-3d55c332025c\" class=\"plotly-graph-div\" style=\"height:525px; width:100%;\"></div>            <script type=\"text/javascript\">                                    window.PLOTLYENV=window.PLOTLYENV || {};                                    if (document.getElementById(\"e0da0134-c921-4601-88f9-3d55c332025c\")) {                    Plotly.newPlot(                        \"e0da0134-c921-4601-88f9-3d55c332025c\",                        [{\"alignmentgroup\":\"True\",\"hovertemplate\":\"Names=%{x}<br>Old_Prices=%{y}<extra></extra>\",\"legendgroup\":\"\",\"marker\":{\"color\":\"#636efa\",\"pattern\":{\"shape\":\"\"}},\"name\":\"\",\"offsetgroup\":\"\",\"orientation\":\"v\",\"showlegend\":false,\"textposition\":\"auto\",\"x\":[\"CONTROLLER\",\"ABS MODULE\",\"VALVE STEM\",\"TPM ASSEMBLY\",\"SENSOR\",\"STEEL RODS\"],\"xaxis\":\"x\",\"y\":[32.0,32.0,30.0,99.0,0.2,0.2],\"yaxis\":\"y\",\"type\":\"bar\"}],                        {\"template\":{\"data\":{\"histogram2dcontour\":[{\"type\":\"histogram2dcontour\",\"colorbar\":{\"outlinewidth\":0,\"ticks\":\"\"},\"colorscale\":[[0.0,\"#0d0887\"],[0.1111111111111111,\"#46039f\"],[0.2222222222222222,\"#7201a8\"],[0.3333333333333333,\"#9c179e\"],[0.4444444444444444,\"#bd3786\"],[0.5555555555555556,\"#d8576b\"],[0.6666666666666666,\"#ed7953\"],[0.7777777777777778,\"#fb9f3a\"],[0.8888888888888888,\"#fdca26\"],[1.0,\"#f0f921\"]]}],\"choropleth\":[{\"type\":\"choropleth\",\"colorbar\":{\"outlinewidth\":0,\"ticks\":\"\"}}],\"histogram2d\":[{\"type\":\"histogram2d\",\"colorbar\":{\"outlinewidth\":0,\"ticks\":\"\"},\"colorscale\":[[0.0,\"#0d0887\"],[0.1111111111111111,\"#46039f\"],[0.2222222222222222,\"#7201a8\"],[0.3333333333333333,\"#9c179e\"],[0.4444444444444444,\"#bd3786\"],[0.5555555555555556,\"#d8576b\"],[0.6666666666666666,\"#ed7953\"],[0.7777777777777778,\"#fb9f3a\"],[0.8888888888888888,\"#fdca26\"],[1.0,\"#f0f921\"]]}],\"heatmap\":[{\"type\":\"heatmap\",\"colorbar\":{\"outlinewidth\":0,\"ticks\":\"\"},\"colorscale\":[[0.0,\"#0d0887\"],[0.1111111111111111,\"#46039f\"],[0.2222222222222222,\"#7201a8\"],[0.3333333333333333,\"#9c179e\"],[0.4444444444444444,\"#bd3786\"],[0.5555555555555556,\"#d8576b\"],[0.6666666666666666,\"#ed7953\"],[0.7777777777777778,\"#fb9f3a\"],[0.8888888888888888,\"#fdca26\"],[1.0,\"#f0f921\"]]}],\"heatmapgl\":[{\"type\":\"heatmapgl\",\"colorbar\":{\"outlinewidth\":0,\"ticks\":\"\"},\"colorscale\":[[0.0,\"#0d0887\"],[0.1111111111111111,\"#46039f\"],[0.2222222222222222,\"#7201a8\"],[0.3333333333333333,\"#9c179e\"],[0.4444444444444444,\"#bd3786\"],[0.5555555555555556,\"#d8576b\"],[0.6666666666666666,\"#ed7953\"],[0.7777777777777778,\"#fb9f3a\"],[0.8888888888888888,\"#fdca26\"],[1.0,\"#f0f921\"]]}],\"contourcarpet\":[{\"type\":\"contourcarpet\",\"colorbar\":{\"outlinewidth\":0,\"ticks\":\"\"}}],\"contour\":[{\"type\":\"contour\",\"colorbar\":{\"outlinewidth\":0,\"ticks\":\"\"},\"colorscale\":[[0.0,\"#0d0887\"],[0.1111111111111111,\"#46039f\"],[0.2222222222222222,\"#7201a8\"],[0.3333333333333333,\"#9c179e\"],[0.4444444444444444,\"#bd3786\"],[0.5555555555555556,\"#d8576b\"],[0.6666666666666666,\"#ed7953\"],[0.7777777777777778,\"#fb9f3a\"],[0.8888888888888888,\"#fdca26\"],[1.0,\"#f0f921\"]]}],\"surface\":[{\"type\":\"surface\",\"colorbar\":{\"outlinewidth\":0,\"ticks\":\"\"},\"colorscale\":[[0.0,\"#0d0887\"],[0.1111111111111111,\"#46039f\"],[0.2222222222222222,\"#7201a8\"],[0.3333333333333333,\"#9c179e\"],[0.4444444444444444,\"#bd3786\"],[0.5555555555555556,\"#d8576b\"],[0.6666666666666666,\"#ed7953\"],[0.7777777777777778,\"#fb9f3a\"],[0.8888888888888888,\"#fdca26\"],[1.0,\"#f0f921\"]]}],\"mesh3d\":[{\"type\":\"mesh3d\",\"colorbar\":{\"outlinewidth\":0,\"ticks\":\"\"}}],\"scatter\":[{\"fillpattern\":{\"fillmode\":\"overlay\",\"size\":10,\"solidity\":0.2},\"type\":\"scatter\"}],\"parcoords\":[{\"type\":\"parcoords\",\"line\":{\"colorbar\":{\"outlinewidth\":0,\"ticks\":\"\"}}}],\"scatterpolargl\":[{\"type\":\"scatterpolargl\",\"marker\":{\"colorbar\":{\"outlinewidth\":0,\"ticks\":\"\"}}}],\"bar\":[{\"error_x\":{\"color\":\"#2a3f5f\"},\"error_y\":{\"color\":\"#2a3f5f\"},\"marker\":{\"line\":{\"color\":\"#E5ECF6\",\"width\":0.5},\"pattern\":{\"fillmode\":\"overlay\",\"size\":10,\"solidity\":0.2}},\"type\":\"bar\"}],\"scattergeo\":[{\"type\":\"scattergeo\",\"marker\":{\"colorbar\":{\"outlinewidth\":0,\"ticks\":\"\"}}}],\"scatterpolar\":[{\"type\":\"scatterpolar\",\"marker\":{\"colorbar\":{\"outlinewidth\":0,\"ticks\":\"\"}}}],\"histogram\":[{\"marker\":{\"pattern\":{\"fillmode\":\"overlay\",\"size\":10,\"solidity\":0.2}},\"type\":\"histogram\"}],\"scattergl\":[{\"type\":\"scattergl\",\"marker\":{\"colorbar\":{\"outlinewidth\":0,\"ticks\":\"\"}}}],\"scatter3d\":[{\"type\":\"scatter3d\",\"line\":{\"colorbar\":{\"outlinewidth\":0,\"ticks\":\"\"}},\"marker\":{\"colorbar\":{\"outlinewidth\":0,\"ticks\":\"\"}}}],\"scattermapbox\":[{\"type\":\"scattermapbox\",\"marker\":{\"colorbar\":{\"outlinewidth\":0,\"ticks\":\"\"}}}],\"scatterternary\":[{\"type\":\"scatterternary\",\"marker\":{\"colorbar\":{\"outlinewidth\":0,\"ticks\":\"\"}}}],\"scattercarpet\":[{\"type\":\"scattercarpet\",\"marker\":{\"colorbar\":{\"outlinewidth\":0,\"ticks\":\"\"}}}],\"carpet\":[{\"aaxis\":{\"endlinecolor\":\"#2a3f5f\",\"gridcolor\":\"white\",\"linecolor\":\"white\",\"minorgridcolor\":\"white\",\"startlinecolor\":\"#2a3f5f\"},\"baxis\":{\"endlinecolor\":\"#2a3f5f\",\"gridcolor\":\"white\",\"linecolor\":\"white\",\"minorgridcolor\":\"white\",\"startlinecolor\":\"#2a3f5f\"},\"type\":\"carpet\"}],\"table\":[{\"cells\":{\"fill\":{\"color\":\"#EBF0F8\"},\"line\":{\"color\":\"white\"}},\"header\":{\"fill\":{\"color\":\"#C8D4E3\"},\"line\":{\"color\":\"white\"}},\"type\":\"table\"}],\"barpolar\":[{\"marker\":{\"line\":{\"color\":\"#E5ECF6\",\"width\":0.5},\"pattern\":{\"fillmode\":\"overlay\",\"size\":10,\"solidity\":0.2}},\"type\":\"barpolar\"}],\"pie\":[{\"automargin\":true,\"type\":\"pie\"}]},\"layout\":{\"autotypenumbers\":\"strict\",\"colorway\":[\"#636efa\",\"#EF553B\",\"#00cc96\",\"#ab63fa\",\"#FFA15A\",\"#19d3f3\",\"#FF6692\",\"#B6E880\",\"#FF97FF\",\"#FECB52\"],\"font\":{\"color\":\"#2a3f5f\"},\"hovermode\":\"closest\",\"hoverlabel\":{\"align\":\"left\"},\"paper_bgcolor\":\"white\",\"plot_bgcolor\":\"#E5ECF6\",\"polar\":{\"bgcolor\":\"#E5ECF6\",\"angularaxis\":{\"gridcolor\":\"white\",\"linecolor\":\"white\",\"ticks\":\"\"},\"radialaxis\":{\"gridcolor\":\"white\",\"linecolor\":\"white\",\"ticks\":\"\"}},\"ternary\":{\"bgcolor\":\"#E5ECF6\",\"aaxis\":{\"gridcolor\":\"white\",\"linecolor\":\"white\",\"ticks\":\"\"},\"baxis\":{\"gridcolor\":\"white\",\"linecolor\":\"white\",\"ticks\":\"\"},\"caxis\":{\"gridcolor\":\"white\",\"linecolor\":\"white\",\"ticks\":\"\"}},\"coloraxis\":{\"colorbar\":{\"outlinewidth\":0,\"ticks\":\"\"}},\"colorscale\":{\"sequential\":[[0.0,\"#0d0887\"],[0.1111111111111111,\"#46039f\"],[0.2222222222222222,\"#7201a8\"],[0.3333333333333333,\"#9c179e\"],[0.4444444444444444,\"#bd3786\"],[0.5555555555555556,\"#d8576b\"],[0.6666666666666666,\"#ed7953\"],[0.7777777777777778,\"#fb9f3a\"],[0.8888888888888888,\"#fdca26\"],[1.0,\"#f0f921\"]],\"sequentialminus\":[[0.0,\"#0d0887\"],[0.1111111111111111,\"#46039f\"],[0.2222222222222222,\"#7201a8\"],[0.3333333333333333,\"#9c179e\"],[0.4444444444444444,\"#bd3786\"],[0.5555555555555556,\"#d8576b\"],[0.6666666666666666,\"#ed7953\"],[0.7777777777777778,\"#fb9f3a\"],[0.8888888888888888,\"#fdca26\"],[1.0,\"#f0f921\"]],\"diverging\":[[0,\"#8e0152\"],[0.1,\"#c51b7d\"],[0.2,\"#de77ae\"],[0.3,\"#f1b6da\"],[0.4,\"#fde0ef\"],[0.5,\"#f7f7f7\"],[0.6,\"#e6f5d0\"],[0.7,\"#b8e186\"],[0.8,\"#7fbc41\"],[0.9,\"#4d9221\"],[1,\"#276419\"]]},\"xaxis\":{\"gridcolor\":\"white\",\"linecolor\":\"white\",\"ticks\":\"\",\"title\":{\"standoff\":15},\"zerolinecolor\":\"white\",\"automargin\":true,\"zerolinewidth\":2},\"yaxis\":{\"gridcolor\":\"white\",\"linecolor\":\"white\",\"ticks\":\"\",\"title\":{\"standoff\":15},\"zerolinecolor\":\"white\",\"automargin\":true,\"zerolinewidth\":2},\"scene\":{\"xaxis\":{\"backgroundcolor\":\"#E5ECF6\",\"gridcolor\":\"white\",\"linecolor\":\"white\",\"showbackground\":true,\"ticks\":\"\",\"zerolinecolor\":\"white\",\"gridwidth\":2},\"yaxis\":{\"backgroundcolor\":\"#E5ECF6\",\"gridcolor\":\"white\",\"linecolor\":\"white\",\"showbackground\":true,\"ticks\":\"\",\"zerolinecolor\":\"white\",\"gridwidth\":2},\"zaxis\":{\"backgroundcolor\":\"#E5ECF6\",\"gridcolor\":\"white\",\"linecolor\":\"white\",\"showbackground\":true,\"ticks\":\"\",\"zerolinecolor\":\"white\",\"gridwidth\":2}},\"shapedefaults\":{\"line\":{\"color\":\"#2a3f5f\"}},\"annotationdefaults\":{\"arrowcolor\":\"#2a3f5f\",\"arrowhead\":0,\"arrowwidth\":1},\"geo\":{\"bgcolor\":\"white\",\"landcolor\":\"#E5ECF6\",\"subunitcolor\":\"white\",\"showland\":true,\"showlakes\":true,\"lakecolor\":\"white\"},\"title\":{\"x\":0.05},\"mapbox\":{\"style\":\"light\"}}},\"xaxis\":{\"anchor\":\"y\",\"domain\":[0.0,1.0],\"title\":{\"text\":\"Names\"}},\"yaxis\":{\"anchor\":\"x\",\"domain\":[0.0,1.0],\"title\":{\"text\":\"Old_Prices\"}},\"legend\":{\"tracegroupgap\":0},\"margin\":{\"t\":60},\"barmode\":\"relative\"},                        {\"responsive\": true}                    ).then(function(){\n",
              "                            \n",
              "var gd = document.getElementById('e0da0134-c921-4601-88f9-3d55c332025c');\n",
              "var x = new MutationObserver(function (mutations, observer) {{\n",
              "        var display = window.getComputedStyle(gd).display;\n",
              "        if (!display || display === 'none') {{\n",
              "            console.log([gd, 'removed!']);\n",
              "            Plotly.purge(gd);\n",
              "            observer.disconnect();\n",
              "        }}\n",
              "}});\n",
              "\n",
              "// Listen for the removal of the full notebook cells\n",
              "var notebookContainer = gd.closest('#notebook-container');\n",
              "if (notebookContainer) {{\n",
              "    x.observe(notebookContainer, {childList: true});\n",
              "}}\n",
              "\n",
              "// Listen for the clearing of the current output cell\n",
              "var outputEl = gd.closest('.output');\n",
              "if (outputEl) {{\n",
              "    x.observe(outputEl, {childList: true});\n",
              "}}\n",
              "\n",
              "                        })                };                            </script>        </div>\n",
              "</body>\n",
              "</html>"
            ]
          },
          "metadata": {}
        }
      ]
    },
    {
      "cell_type": "code",
      "source": [
        "#shows the comparative analysis of product new price and old price\n",
        "import plotly.graph_objects as go\n",
        "\n",
        "fig = go.Figure(data=[\n",
        "    go.Bar(name='Old_Prices', x=processed_pricePrediction_data['Names'], y=processed_pricePrediction_data['Old_Prices']),\n",
        "    go.Bar(name='New_Prices', x=processed_pricePrediction_data['Names'], y=processed_pricePrediction_data['New_Prices'])\n",
        "])\n",
        "# Change the bar mode\n",
        "fig.update_layout(barmode='group')\n",
        "fig.show()"
      ],
      "metadata": {
        "colab": {
          "base_uri": "https://localhost:8080/",
          "height": 542
        },
        "id": "IuFFjFVIgAce",
        "outputId": "0e22aaa8-6dc9-46ef-babf-365c83698e99"
      },
      "execution_count": 32,
      "outputs": [
        {
          "output_type": "display_data",
          "data": {
            "text/html": [
              "<html>\n",
              "<head><meta charset=\"utf-8\" /></head>\n",
              "<body>\n",
              "    <div>            <script src=\"https://cdnjs.cloudflare.com/ajax/libs/mathjax/2.7.5/MathJax.js?config=TeX-AMS-MML_SVG\"></script><script type=\"text/javascript\">if (window.MathJax) {MathJax.Hub.Config({SVG: {font: \"STIX-Web\"}});}</script>                <script type=\"text/javascript\">window.PlotlyConfig = {MathJaxConfig: 'local'};</script>\n",
              "        <script src=\"https://cdn.plot.ly/plotly-2.11.1.min.js\"></script>                <div id=\"96863e7b-3666-4ef1-b71e-ed4cecea886e\" class=\"plotly-graph-div\" style=\"height:525px; width:100%;\"></div>            <script type=\"text/javascript\">                                    window.PLOTLYENV=window.PLOTLYENV || {};                                    if (document.getElementById(\"96863e7b-3666-4ef1-b71e-ed4cecea886e\")) {                    Plotly.newPlot(                        \"96863e7b-3666-4ef1-b71e-ed4cecea886e\",                        [{\"name\":\"Old_Prices\",\"x\":[\"CONTROLLER\",\"ABS MODULE\",\"VALVE STEM\",\"TPM ASSEMBLY\",\"SENSOR\",\"STEEL RODS\"],\"y\":[32.0,32.0,30.0,99.0,0.2,0.2],\"type\":\"bar\"},{\"name\":\"New_Prices\",\"x\":[\"CONTROLLER\",\"ABS MODULE\",\"VALVE STEM\",\"TPM ASSEMBLY\",\"SENSOR\",\"STEEL RODS\"],\"y\":[0.0,0.0,0.0,49.92,0.4,0.0],\"type\":\"bar\"}],                        {\"template\":{\"data\":{\"histogram2dcontour\":[{\"type\":\"histogram2dcontour\",\"colorbar\":{\"outlinewidth\":0,\"ticks\":\"\"},\"colorscale\":[[0.0,\"#0d0887\"],[0.1111111111111111,\"#46039f\"],[0.2222222222222222,\"#7201a8\"],[0.3333333333333333,\"#9c179e\"],[0.4444444444444444,\"#bd3786\"],[0.5555555555555556,\"#d8576b\"],[0.6666666666666666,\"#ed7953\"],[0.7777777777777778,\"#fb9f3a\"],[0.8888888888888888,\"#fdca26\"],[1.0,\"#f0f921\"]]}],\"choropleth\":[{\"type\":\"choropleth\",\"colorbar\":{\"outlinewidth\":0,\"ticks\":\"\"}}],\"histogram2d\":[{\"type\":\"histogram2d\",\"colorbar\":{\"outlinewidth\":0,\"ticks\":\"\"},\"colorscale\":[[0.0,\"#0d0887\"],[0.1111111111111111,\"#46039f\"],[0.2222222222222222,\"#7201a8\"],[0.3333333333333333,\"#9c179e\"],[0.4444444444444444,\"#bd3786\"],[0.5555555555555556,\"#d8576b\"],[0.6666666666666666,\"#ed7953\"],[0.7777777777777778,\"#fb9f3a\"],[0.8888888888888888,\"#fdca26\"],[1.0,\"#f0f921\"]]}],\"heatmap\":[{\"type\":\"heatmap\",\"colorbar\":{\"outlinewidth\":0,\"ticks\":\"\"},\"colorscale\":[[0.0,\"#0d0887\"],[0.1111111111111111,\"#46039f\"],[0.2222222222222222,\"#7201a8\"],[0.3333333333333333,\"#9c179e\"],[0.4444444444444444,\"#bd3786\"],[0.5555555555555556,\"#d8576b\"],[0.6666666666666666,\"#ed7953\"],[0.7777777777777778,\"#fb9f3a\"],[0.8888888888888888,\"#fdca26\"],[1.0,\"#f0f921\"]]}],\"heatmapgl\":[{\"type\":\"heatmapgl\",\"colorbar\":{\"outlinewidth\":0,\"ticks\":\"\"},\"colorscale\":[[0.0,\"#0d0887\"],[0.1111111111111111,\"#46039f\"],[0.2222222222222222,\"#7201a8\"],[0.3333333333333333,\"#9c179e\"],[0.4444444444444444,\"#bd3786\"],[0.5555555555555556,\"#d8576b\"],[0.6666666666666666,\"#ed7953\"],[0.7777777777777778,\"#fb9f3a\"],[0.8888888888888888,\"#fdca26\"],[1.0,\"#f0f921\"]]}],\"contourcarpet\":[{\"type\":\"contourcarpet\",\"colorbar\":{\"outlinewidth\":0,\"ticks\":\"\"}}],\"contour\":[{\"type\":\"contour\",\"colorbar\":{\"outlinewidth\":0,\"ticks\":\"\"},\"colorscale\":[[0.0,\"#0d0887\"],[0.1111111111111111,\"#46039f\"],[0.2222222222222222,\"#7201a8\"],[0.3333333333333333,\"#9c179e\"],[0.4444444444444444,\"#bd3786\"],[0.5555555555555556,\"#d8576b\"],[0.6666666666666666,\"#ed7953\"],[0.7777777777777778,\"#fb9f3a\"],[0.8888888888888888,\"#fdca26\"],[1.0,\"#f0f921\"]]}],\"surface\":[{\"type\":\"surface\",\"colorbar\":{\"outlinewidth\":0,\"ticks\":\"\"},\"colorscale\":[[0.0,\"#0d0887\"],[0.1111111111111111,\"#46039f\"],[0.2222222222222222,\"#7201a8\"],[0.3333333333333333,\"#9c179e\"],[0.4444444444444444,\"#bd3786\"],[0.5555555555555556,\"#d8576b\"],[0.6666666666666666,\"#ed7953\"],[0.7777777777777778,\"#fb9f3a\"],[0.8888888888888888,\"#fdca26\"],[1.0,\"#f0f921\"]]}],\"mesh3d\":[{\"type\":\"mesh3d\",\"colorbar\":{\"outlinewidth\":0,\"ticks\":\"\"}}],\"scatter\":[{\"fillpattern\":{\"fillmode\":\"overlay\",\"size\":10,\"solidity\":0.2},\"type\":\"scatter\"}],\"parcoords\":[{\"type\":\"parcoords\",\"line\":{\"colorbar\":{\"outlinewidth\":0,\"ticks\":\"\"}}}],\"scatterpolargl\":[{\"type\":\"scatterpolargl\",\"marker\":{\"colorbar\":{\"outlinewidth\":0,\"ticks\":\"\"}}}],\"bar\":[{\"error_x\":{\"color\":\"#2a3f5f\"},\"error_y\":{\"color\":\"#2a3f5f\"},\"marker\":{\"line\":{\"color\":\"#E5ECF6\",\"width\":0.5},\"pattern\":{\"fillmode\":\"overlay\",\"size\":10,\"solidity\":0.2}},\"type\":\"bar\"}],\"scattergeo\":[{\"type\":\"scattergeo\",\"marker\":{\"colorbar\":{\"outlinewidth\":0,\"ticks\":\"\"}}}],\"scatterpolar\":[{\"type\":\"scatterpolar\",\"marker\":{\"colorbar\":{\"outlinewidth\":0,\"ticks\":\"\"}}}],\"histogram\":[{\"marker\":{\"pattern\":{\"fillmode\":\"overlay\",\"size\":10,\"solidity\":0.2}},\"type\":\"histogram\"}],\"scattergl\":[{\"type\":\"scattergl\",\"marker\":{\"colorbar\":{\"outlinewidth\":0,\"ticks\":\"\"}}}],\"scatter3d\":[{\"type\":\"scatter3d\",\"line\":{\"colorbar\":{\"outlinewidth\":0,\"ticks\":\"\"}},\"marker\":{\"colorbar\":{\"outlinewidth\":0,\"ticks\":\"\"}}}],\"scattermapbox\":[{\"type\":\"scattermapbox\",\"marker\":{\"colorbar\":{\"outlinewidth\":0,\"ticks\":\"\"}}}],\"scatterternary\":[{\"type\":\"scatterternary\",\"marker\":{\"colorbar\":{\"outlinewidth\":0,\"ticks\":\"\"}}}],\"scattercarpet\":[{\"type\":\"scattercarpet\",\"marker\":{\"colorbar\":{\"outlinewidth\":0,\"ticks\":\"\"}}}],\"carpet\":[{\"aaxis\":{\"endlinecolor\":\"#2a3f5f\",\"gridcolor\":\"white\",\"linecolor\":\"white\",\"minorgridcolor\":\"white\",\"startlinecolor\":\"#2a3f5f\"},\"baxis\":{\"endlinecolor\":\"#2a3f5f\",\"gridcolor\":\"white\",\"linecolor\":\"white\",\"minorgridcolor\":\"white\",\"startlinecolor\":\"#2a3f5f\"},\"type\":\"carpet\"}],\"table\":[{\"cells\":{\"fill\":{\"color\":\"#EBF0F8\"},\"line\":{\"color\":\"white\"}},\"header\":{\"fill\":{\"color\":\"#C8D4E3\"},\"line\":{\"color\":\"white\"}},\"type\":\"table\"}],\"barpolar\":[{\"marker\":{\"line\":{\"color\":\"#E5ECF6\",\"width\":0.5},\"pattern\":{\"fillmode\":\"overlay\",\"size\":10,\"solidity\":0.2}},\"type\":\"barpolar\"}],\"pie\":[{\"automargin\":true,\"type\":\"pie\"}]},\"layout\":{\"autotypenumbers\":\"strict\",\"colorway\":[\"#636efa\",\"#EF553B\",\"#00cc96\",\"#ab63fa\",\"#FFA15A\",\"#19d3f3\",\"#FF6692\",\"#B6E880\",\"#FF97FF\",\"#FECB52\"],\"font\":{\"color\":\"#2a3f5f\"},\"hovermode\":\"closest\",\"hoverlabel\":{\"align\":\"left\"},\"paper_bgcolor\":\"white\",\"plot_bgcolor\":\"#E5ECF6\",\"polar\":{\"bgcolor\":\"#E5ECF6\",\"angularaxis\":{\"gridcolor\":\"white\",\"linecolor\":\"white\",\"ticks\":\"\"},\"radialaxis\":{\"gridcolor\":\"white\",\"linecolor\":\"white\",\"ticks\":\"\"}},\"ternary\":{\"bgcolor\":\"#E5ECF6\",\"aaxis\":{\"gridcolor\":\"white\",\"linecolor\":\"white\",\"ticks\":\"\"},\"baxis\":{\"gridcolor\":\"white\",\"linecolor\":\"white\",\"ticks\":\"\"},\"caxis\":{\"gridcolor\":\"white\",\"linecolor\":\"white\",\"ticks\":\"\"}},\"coloraxis\":{\"colorbar\":{\"outlinewidth\":0,\"ticks\":\"\"}},\"colorscale\":{\"sequential\":[[0.0,\"#0d0887\"],[0.1111111111111111,\"#46039f\"],[0.2222222222222222,\"#7201a8\"],[0.3333333333333333,\"#9c179e\"],[0.4444444444444444,\"#bd3786\"],[0.5555555555555556,\"#d8576b\"],[0.6666666666666666,\"#ed7953\"],[0.7777777777777778,\"#fb9f3a\"],[0.8888888888888888,\"#fdca26\"],[1.0,\"#f0f921\"]],\"sequentialminus\":[[0.0,\"#0d0887\"],[0.1111111111111111,\"#46039f\"],[0.2222222222222222,\"#7201a8\"],[0.3333333333333333,\"#9c179e\"],[0.4444444444444444,\"#bd3786\"],[0.5555555555555556,\"#d8576b\"],[0.6666666666666666,\"#ed7953\"],[0.7777777777777778,\"#fb9f3a\"],[0.8888888888888888,\"#fdca26\"],[1.0,\"#f0f921\"]],\"diverging\":[[0,\"#8e0152\"],[0.1,\"#c51b7d\"],[0.2,\"#de77ae\"],[0.3,\"#f1b6da\"],[0.4,\"#fde0ef\"],[0.5,\"#f7f7f7\"],[0.6,\"#e6f5d0\"],[0.7,\"#b8e186\"],[0.8,\"#7fbc41\"],[0.9,\"#4d9221\"],[1,\"#276419\"]]},\"xaxis\":{\"gridcolor\":\"white\",\"linecolor\":\"white\",\"ticks\":\"\",\"title\":{\"standoff\":15},\"zerolinecolor\":\"white\",\"automargin\":true,\"zerolinewidth\":2},\"yaxis\":{\"gridcolor\":\"white\",\"linecolor\":\"white\",\"ticks\":\"\",\"title\":{\"standoff\":15},\"zerolinecolor\":\"white\",\"automargin\":true,\"zerolinewidth\":2},\"scene\":{\"xaxis\":{\"backgroundcolor\":\"#E5ECF6\",\"gridcolor\":\"white\",\"linecolor\":\"white\",\"showbackground\":true,\"ticks\":\"\",\"zerolinecolor\":\"white\",\"gridwidth\":2},\"yaxis\":{\"backgroundcolor\":\"#E5ECF6\",\"gridcolor\":\"white\",\"linecolor\":\"white\",\"showbackground\":true,\"ticks\":\"\",\"zerolinecolor\":\"white\",\"gridwidth\":2},\"zaxis\":{\"backgroundcolor\":\"#E5ECF6\",\"gridcolor\":\"white\",\"linecolor\":\"white\",\"showbackground\":true,\"ticks\":\"\",\"zerolinecolor\":\"white\",\"gridwidth\":2}},\"shapedefaults\":{\"line\":{\"color\":\"#2a3f5f\"}},\"annotationdefaults\":{\"arrowcolor\":\"#2a3f5f\",\"arrowhead\":0,\"arrowwidth\":1},\"geo\":{\"bgcolor\":\"white\",\"landcolor\":\"#E5ECF6\",\"subunitcolor\":\"white\",\"showland\":true,\"showlakes\":true,\"lakecolor\":\"white\"},\"title\":{\"x\":0.05},\"mapbox\":{\"style\":\"light\"}}},\"barmode\":\"group\"},                        {\"responsive\": true}                    ).then(function(){\n",
              "                            \n",
              "var gd = document.getElementById('96863e7b-3666-4ef1-b71e-ed4cecea886e');\n",
              "var x = new MutationObserver(function (mutations, observer) {{\n",
              "        var display = window.getComputedStyle(gd).display;\n",
              "        if (!display || display === 'none') {{\n",
              "            console.log([gd, 'removed!']);\n",
              "            Plotly.purge(gd);\n",
              "            observer.disconnect();\n",
              "        }}\n",
              "}});\n",
              "\n",
              "// Listen for the removal of the full notebook cells\n",
              "var notebookContainer = gd.closest('#notebook-container');\n",
              "if (notebookContainer) {{\n",
              "    x.observe(notebookContainer, {childList: true});\n",
              "}}\n",
              "\n",
              "// Listen for the clearing of the current output cell\n",
              "var outputEl = gd.closest('.output');\n",
              "if (outputEl) {{\n",
              "    x.observe(outputEl, {childList: true});\n",
              "}}\n",
              "\n",
              "                        })                };                            </script>        </div>\n",
              "</body>\n",
              "</html>"
            ]
          },
          "metadata": {}
        }
      ]
    }
  ],
  "metadata": {
    "colab": {
      "name": "SupplyChainAnalytics.ipynb",
      "provenance": [],
      "collapsed_sections": [],
      "authorship_tag": "ABX9TyP33OXc9DOSicSeZGR0wR0Y",
      "include_colab_link": true
    },
    "kernelspec": {
      "display_name": "Python 3",
      "name": "python3"
    },
    "language_info": {
      "name": "python"
    },
    "widgets": {
      "application/vnd.jupyter.widget-state+json": {
        "cce457bed36449b398096ffb243dea1f": {
          "model_module": "@jupyter-widgets/controls",
          "model_name": "DropdownModel",
          "model_module_version": "1.5.0",
          "state": {
            "_dom_classes": [],
            "_model_module": "@jupyter-widgets/controls",
            "_model_module_version": "1.5.0",
            "_model_name": "DropdownModel",
            "_options_labels": [
              "CAR WHEEL SET",
              "TRUCK WHEEL SET",
              "TIRES",
              "TRUCK RIMS",
              "CAR RIMS"
            ],
            "_view_count": null,
            "_view_module": "@jupyter-widgets/controls",
            "_view_module_version": "1.5.0",
            "_view_name": "DropdownView",
            "description": "Select a product name",
            "description_tooltip": null,
            "disabled": false,
            "index": 1,
            "layout": "IPY_MODEL_eb049bcc82244d3389766c73296cec70",
            "style": "IPY_MODEL_bb332210beb44ad68c3ca9e3494d3bdc"
          }
        },
        "eb049bcc82244d3389766c73296cec70": {
          "model_module": "@jupyter-widgets/base",
          "model_name": "LayoutModel",
          "model_module_version": "1.2.0",
          "state": {
            "_model_module": "@jupyter-widgets/base",
            "_model_module_version": "1.2.0",
            "_model_name": "LayoutModel",
            "_view_count": null,
            "_view_module": "@jupyter-widgets/base",
            "_view_module_version": "1.2.0",
            "_view_name": "LayoutView",
            "align_content": null,
            "align_items": null,
            "align_self": null,
            "border": null,
            "bottom": null,
            "display": null,
            "flex": null,
            "flex_flow": null,
            "grid_area": null,
            "grid_auto_columns": null,
            "grid_auto_flow": null,
            "grid_auto_rows": null,
            "grid_column": null,
            "grid_gap": null,
            "grid_row": null,
            "grid_template_areas": null,
            "grid_template_columns": null,
            "grid_template_rows": null,
            "height": null,
            "justify_content": null,
            "justify_items": null,
            "left": null,
            "margin": null,
            "max_height": null,
            "max_width": null,
            "min_height": null,
            "min_width": null,
            "object_fit": null,
            "object_position": null,
            "order": null,
            "overflow": null,
            "overflow_x": null,
            "overflow_y": null,
            "padding": null,
            "right": null,
            "top": null,
            "visibility": null,
            "width": null
          }
        },
        "bb332210beb44ad68c3ca9e3494d3bdc": {
          "model_module": "@jupyter-widgets/controls",
          "model_name": "DescriptionStyleModel",
          "model_module_version": "1.5.0",
          "state": {
            "_model_module": "@jupyter-widgets/controls",
            "_model_module_version": "1.5.0",
            "_model_name": "DescriptionStyleModel",
            "_view_count": null,
            "_view_module": "@jupyter-widgets/base",
            "_view_module_version": "1.2.0",
            "_view_name": "StyleView",
            "description_width": ""
          }
        },
        "aee53aca2402456dbfe509e16758f686": {
          "model_module": "@jupyter-widgets/controls",
          "model_name": "DropdownModel",
          "model_module_version": "1.5.0",
          "state": {
            "_dom_classes": [],
            "_model_module": "@jupyter-widgets/controls",
            "_model_module_version": "1.5.0",
            "_model_name": "DropdownModel",
            "_options_labels": [
              "2",
              "4",
              "5",
              "8",
              "10"
            ],
            "_view_count": null,
            "_view_module": "@jupyter-widgets/controls",
            "_view_module_version": "1.5.0",
            "_view_name": "DropdownView",
            "description": "Select the amount of product ordered ",
            "description_tooltip": null,
            "disabled": false,
            "index": 4,
            "layout": "IPY_MODEL_f1d2bf884c1d4123b938030bae36155e",
            "style": "IPY_MODEL_d7ff002fd8ff499a814d2403ea470675"
          }
        },
        "f1d2bf884c1d4123b938030bae36155e": {
          "model_module": "@jupyter-widgets/base",
          "model_name": "LayoutModel",
          "model_module_version": "1.2.0",
          "state": {
            "_model_module": "@jupyter-widgets/base",
            "_model_module_version": "1.2.0",
            "_model_name": "LayoutModel",
            "_view_count": null,
            "_view_module": "@jupyter-widgets/base",
            "_view_module_version": "1.2.0",
            "_view_name": "LayoutView",
            "align_content": null,
            "align_items": null,
            "align_self": null,
            "border": null,
            "bottom": null,
            "display": null,
            "flex": null,
            "flex_flow": null,
            "grid_area": null,
            "grid_auto_columns": null,
            "grid_auto_flow": null,
            "grid_auto_rows": null,
            "grid_column": null,
            "grid_gap": null,
            "grid_row": null,
            "grid_template_areas": null,
            "grid_template_columns": null,
            "grid_template_rows": null,
            "height": null,
            "justify_content": null,
            "justify_items": null,
            "left": null,
            "margin": null,
            "max_height": null,
            "max_width": null,
            "min_height": null,
            "min_width": null,
            "object_fit": null,
            "object_position": null,
            "order": null,
            "overflow": null,
            "overflow_x": null,
            "overflow_y": null,
            "padding": null,
            "right": null,
            "top": null,
            "visibility": null,
            "width": null
          }
        },
        "d7ff002fd8ff499a814d2403ea470675": {
          "model_module": "@jupyter-widgets/controls",
          "model_name": "DescriptionStyleModel",
          "model_module_version": "1.5.0",
          "state": {
            "_model_module": "@jupyter-widgets/controls",
            "_model_module_version": "1.5.0",
            "_model_name": "DescriptionStyleModel",
            "_view_count": null,
            "_view_module": "@jupyter-widgets/base",
            "_view_module_version": "1.2.0",
            "_view_name": "StyleView",
            "description_width": ""
          }
        },
        "b13480c563e34cc7857ec52010064c43": {
          "model_module": "@jupyter-widgets/controls",
          "model_name": "DropdownModel",
          "model_module_version": "1.5.0",
          "state": {
            "_dom_classes": [],
            "_model_module": "@jupyter-widgets/controls",
            "_model_module_version": "1.5.0",
            "_model_name": "DropdownModel",
            "_options_labels": [
              "site1",
              "site2",
              "site3",
              "site4",
              "site5",
              "site7",
              "site8",
              "site9",
              "site10",
              "site11",
              "site12",
              "site13",
              "site14",
              "site15"
            ],
            "_view_count": null,
            "_view_module": "@jupyter-widgets/controls",
            "_view_module_version": "1.5.0",
            "_view_name": "DropdownView",
            "description": "Select a production site name",
            "description_tooltip": null,
            "disabled": false,
            "index": 10,
            "layout": "IPY_MODEL_eb0d0e3fb7594ef99cdb55fa93ccae17",
            "style": "IPY_MODEL_d9f636ff1cd241218e8563aaf22bb51f"
          }
        },
        "eb0d0e3fb7594ef99cdb55fa93ccae17": {
          "model_module": "@jupyter-widgets/base",
          "model_name": "LayoutModel",
          "model_module_version": "1.2.0",
          "state": {
            "_model_module": "@jupyter-widgets/base",
            "_model_module_version": "1.2.0",
            "_model_name": "LayoutModel",
            "_view_count": null,
            "_view_module": "@jupyter-widgets/base",
            "_view_module_version": "1.2.0",
            "_view_name": "LayoutView",
            "align_content": null,
            "align_items": null,
            "align_self": null,
            "border": null,
            "bottom": null,
            "display": null,
            "flex": null,
            "flex_flow": null,
            "grid_area": null,
            "grid_auto_columns": null,
            "grid_auto_flow": null,
            "grid_auto_rows": null,
            "grid_column": null,
            "grid_gap": null,
            "grid_row": null,
            "grid_template_areas": null,
            "grid_template_columns": null,
            "grid_template_rows": null,
            "height": null,
            "justify_content": null,
            "justify_items": null,
            "left": null,
            "margin": null,
            "max_height": null,
            "max_width": null,
            "min_height": null,
            "min_width": null,
            "object_fit": null,
            "object_position": null,
            "order": null,
            "overflow": null,
            "overflow_x": null,
            "overflow_y": null,
            "padding": null,
            "right": null,
            "top": null,
            "visibility": null,
            "width": null
          }
        },
        "d9f636ff1cd241218e8563aaf22bb51f": {
          "model_module": "@jupyter-widgets/controls",
          "model_name": "DescriptionStyleModel",
          "model_module_version": "1.5.0",
          "state": {
            "_model_module": "@jupyter-widgets/controls",
            "_model_module_version": "1.5.0",
            "_model_name": "DescriptionStyleModel",
            "_view_count": null,
            "_view_module": "@jupyter-widgets/base",
            "_view_module_version": "1.2.0",
            "_view_name": "StyleView",
            "description_width": ""
          }
        },
        "79f6ad4f31814bd898515dd8676b8b88": {
          "model_module": "@jupyter-widgets/controls",
          "model_name": "DropdownModel",
          "model_module_version": "1.5.0",
          "state": {
            "_dom_classes": [],
            "_model_module": "@jupyter-widgets/controls",
            "_model_module_version": "1.5.0",
            "_model_name": "DropdownModel",
            "_options_labels": [
              "2",
              "4",
              "5",
              "8",
              "10"
            ],
            "_view_count": null,
            "_view_module": "@jupyter-widgets/controls",
            "_view_module_version": "1.5.0",
            "_view_name": "DropdownView",
            "description": "Select the max-depth",
            "description_tooltip": null,
            "disabled": false,
            "index": 2,
            "layout": "IPY_MODEL_1023f92364ba4f139b23c4c2356d90b7",
            "style": "IPY_MODEL_99c8561384bf49d7a1457775a88c056b"
          }
        },
        "1023f92364ba4f139b23c4c2356d90b7": {
          "model_module": "@jupyter-widgets/base",
          "model_name": "LayoutModel",
          "model_module_version": "1.2.0",
          "state": {
            "_model_module": "@jupyter-widgets/base",
            "_model_module_version": "1.2.0",
            "_model_name": "LayoutModel",
            "_view_count": null,
            "_view_module": "@jupyter-widgets/base",
            "_view_module_version": "1.2.0",
            "_view_name": "LayoutView",
            "align_content": null,
            "align_items": null,
            "align_self": null,
            "border": null,
            "bottom": null,
            "display": null,
            "flex": null,
            "flex_flow": null,
            "grid_area": null,
            "grid_auto_columns": null,
            "grid_auto_flow": null,
            "grid_auto_rows": null,
            "grid_column": null,
            "grid_gap": null,
            "grid_row": null,
            "grid_template_areas": null,
            "grid_template_columns": null,
            "grid_template_rows": null,
            "height": null,
            "justify_content": null,
            "justify_items": null,
            "left": null,
            "margin": null,
            "max_height": null,
            "max_width": null,
            "min_height": null,
            "min_width": null,
            "object_fit": null,
            "object_position": null,
            "order": null,
            "overflow": null,
            "overflow_x": null,
            "overflow_y": null,
            "padding": null,
            "right": null,
            "top": null,
            "visibility": null,
            "width": null
          }
        },
        "99c8561384bf49d7a1457775a88c056b": {
          "model_module": "@jupyter-widgets/controls",
          "model_name": "DescriptionStyleModel",
          "model_module_version": "1.5.0",
          "state": {
            "_model_module": "@jupyter-widgets/controls",
            "_model_module_version": "1.5.0",
            "_model_name": "DescriptionStyleModel",
            "_view_count": null,
            "_view_module": "@jupyter-widgets/base",
            "_view_module_version": "1.2.0",
            "_view_name": "StyleView",
            "description_width": ""
          }
        },
        "5fa57518fc6d49bdac289d32661bf686": {
          "model_module": "@jupyter-widgets/controls",
          "model_name": "DropdownModel",
          "model_module_version": "1.5.0",
          "state": {
            "_dom_classes": [],
            "_model_module": "@jupyter-widgets/controls",
            "_model_module_version": "1.5.0",
            "_model_name": "DropdownModel",
            "_options_labels": [
              "RUBBER",
              "TIRES",
              "STEEL RODS",
              "ALUMINUM RODS",
              "SENSOR",
              "BELTS"
            ],
            "_view_count": null,
            "_view_module": "@jupyter-widgets/controls",
            "_view_module_version": "1.5.0",
            "_view_name": "DropdownView",
            "description": "Select a material name",
            "description_tooltip": null,
            "disabled": false,
            "index": 4,
            "layout": "IPY_MODEL_23296a7d5f204641bf9caffe26ef5797",
            "style": "IPY_MODEL_89be2bd9f84548c1a18d50a88ce01ecf"
          }
        },
        "23296a7d5f204641bf9caffe26ef5797": {
          "model_module": "@jupyter-widgets/base",
          "model_name": "LayoutModel",
          "model_module_version": "1.2.0",
          "state": {
            "_model_module": "@jupyter-widgets/base",
            "_model_module_version": "1.2.0",
            "_model_name": "LayoutModel",
            "_view_count": null,
            "_view_module": "@jupyter-widgets/base",
            "_view_module_version": "1.2.0",
            "_view_name": "LayoutView",
            "align_content": null,
            "align_items": null,
            "align_self": null,
            "border": null,
            "bottom": null,
            "display": null,
            "flex": null,
            "flex_flow": null,
            "grid_area": null,
            "grid_auto_columns": null,
            "grid_auto_flow": null,
            "grid_auto_rows": null,
            "grid_column": null,
            "grid_gap": null,
            "grid_row": null,
            "grid_template_areas": null,
            "grid_template_columns": null,
            "grid_template_rows": null,
            "height": null,
            "justify_content": null,
            "justify_items": null,
            "left": null,
            "margin": null,
            "max_height": null,
            "max_width": null,
            "min_height": null,
            "min_width": null,
            "object_fit": null,
            "object_position": null,
            "order": null,
            "overflow": null,
            "overflow_x": null,
            "overflow_y": null,
            "padding": null,
            "right": null,
            "top": null,
            "visibility": null,
            "width": null
          }
        },
        "89be2bd9f84548c1a18d50a88ce01ecf": {
          "model_module": "@jupyter-widgets/controls",
          "model_name": "DescriptionStyleModel",
          "model_module_version": "1.5.0",
          "state": {
            "_model_module": "@jupyter-widgets/controls",
            "_model_module_version": "1.5.0",
            "_model_name": "DescriptionStyleModel",
            "_view_count": null,
            "_view_module": "@jupyter-widgets/base",
            "_view_module_version": "1.2.0",
            "_view_name": "StyleView",
            "description_width": ""
          }
        },
        "699f2686228149f79d3af43bc516dcc1": {
          "model_module": "@jupyter-widgets/controls",
          "model_name": "DropdownModel",
          "model_module_version": "1.5.0",
          "state": {
            "_dom_classes": [],
            "_model_module": "@jupyter-widgets/controls",
            "_model_module_version": "1.5.0",
            "_model_name": "DropdownModel",
            "_options_labels": [
              "0.2",
              "0.4",
              "0.6",
              "0.8",
              "1"
            ],
            "_view_count": null,
            "_view_module": "@jupyter-widgets/controls",
            "_view_module_version": "1.5.0",
            "_view_name": "DropdownView",
            "description": "Select the change in material prices ",
            "description_tooltip": null,
            "disabled": false,
            "index": 1,
            "layout": "IPY_MODEL_826f8af674394f5baa7fc120b403241f",
            "style": "IPY_MODEL_1bbe3fab20604e0dadbac88bc93245b1"
          }
        },
        "826f8af674394f5baa7fc120b403241f": {
          "model_module": "@jupyter-widgets/base",
          "model_name": "LayoutModel",
          "model_module_version": "1.2.0",
          "state": {
            "_model_module": "@jupyter-widgets/base",
            "_model_module_version": "1.2.0",
            "_model_name": "LayoutModel",
            "_view_count": null,
            "_view_module": "@jupyter-widgets/base",
            "_view_module_version": "1.2.0",
            "_view_name": "LayoutView",
            "align_content": null,
            "align_items": null,
            "align_self": null,
            "border": null,
            "bottom": null,
            "display": null,
            "flex": null,
            "flex_flow": null,
            "grid_area": null,
            "grid_auto_columns": null,
            "grid_auto_flow": null,
            "grid_auto_rows": null,
            "grid_column": null,
            "grid_gap": null,
            "grid_row": null,
            "grid_template_areas": null,
            "grid_template_columns": null,
            "grid_template_rows": null,
            "height": null,
            "justify_content": null,
            "justify_items": null,
            "left": null,
            "margin": null,
            "max_height": null,
            "max_width": null,
            "min_height": null,
            "min_width": null,
            "object_fit": null,
            "object_position": null,
            "order": null,
            "overflow": null,
            "overflow_x": null,
            "overflow_y": null,
            "padding": null,
            "right": null,
            "top": null,
            "visibility": null,
            "width": null
          }
        },
        "1bbe3fab20604e0dadbac88bc93245b1": {
          "model_module": "@jupyter-widgets/controls",
          "model_name": "DescriptionStyleModel",
          "model_module_version": "1.5.0",
          "state": {
            "_model_module": "@jupyter-widgets/controls",
            "_model_module_version": "1.5.0",
            "_model_name": "DescriptionStyleModel",
            "_view_count": null,
            "_view_module": "@jupyter-widgets/base",
            "_view_module_version": "1.2.0",
            "_view_name": "StyleView",
            "description_width": ""
          }
        }
      }
    }
  },
  "nbformat": 4,
  "nbformat_minor": 0
}